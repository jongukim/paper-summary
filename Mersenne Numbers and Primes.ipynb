{
 "cells": [
  {
   "cell_type": "code",
   "execution_count": 1,
   "metadata": {},
   "outputs": [],
   "source": [
    "import sympy"
   ]
  },
  {
   "cell_type": "markdown",
   "metadata": {},
   "source": [
    "# Mersenne Prime (메르센 소수)\n",
    "\n",
    "## 메르센?\n",
    "- 마린 메르센(1588-1648, 페르마, 파스칼, 갈릴레오 등이 살던 때)\n",
    "- 프랑스 수도승\n",
    "- Clearing house : 수학 분야의 발견을 받아 정리하고 배포하는 역할\n",
    "  - 당시에는 수학 저널 같은 것이 없었다\n",
    "- 물론 본인도 철학자이면서 수학자\n",
    "\n",
    "## 소수(prime number)를 공식으로 표현하고자 하는 노력\n",
    "- 무한대의 소수가 있음을 증명할 수 있는 간단한 방법\n",
    "- $x^{2} + x + 41$이 대표적"
   ]
  },
  {
   "cell_type": "code",
   "execution_count": 2,
   "metadata": {},
   "outputs": [
    {
     "data": {
      "text/plain": [
       "[40, 41, 44, 49]"
      ]
     },
     "execution_count": 2,
     "metadata": {},
     "output_type": "execute_result"
    }
   ],
   "source": [
    "[i for i in range(1, 50) if not sympy.ntheory.isprime(i**2 + i + 41)]\n"
   ]
  },
  {
   "cell_type": "markdown",
   "metadata": {},
   "source": [
    "1~39까지는 참이지만 40부터 성립하지 않는 결과가 나오기 시작\n",
    "\n",
    "## Mersenne numbers and primes\n",
    "- 메르센도 공식을 하나 만들었다. $M_{n} = 2^{n} - 1$\n",
    "- 이 수를 Mersenne numbers라고 불렀고 이 중 소수인 숫자가 Mersenne prime이라고 불린다\n",
    "- $n$이 소수가 아니면 $M_{n}$도 소수가 아니다\n",
    "- $n$이 소수면?"
   ]
  },
  {
   "cell_type": "code",
   "execution_count": 3,
   "metadata": {
    "scrolled": true
   },
   "outputs": [
    {
     "data": {
      "text/plain": [
       "[(2, 3, True),\n",
       " (3, 7, True),\n",
       " (5, 31, True),\n",
       " (7, 127, True),\n",
       " (11, 2047, False),\n",
       " (13, 8191, True),\n",
       " (17, 131071, True),\n",
       " (19, 524287, True)]"
      ]
     },
     "execution_count": 3,
     "metadata": {},
     "output_type": "execute_result"
    }
   ],
   "source": [
    "primes = [sympy.prime(n) for n in range(1, 9)]\n",
    "[(n, 2 ** n - 1, sympy.ntheory.isprime(2 ** n - 1)) for n in primes]"
   ]
  },
  {
   "cell_type": "markdown",
   "metadata": {},
   "source": [
    "- 11을 제외하고 19까지 공식이 성립한 걸 본 메르센은 19 이상의 소수에 대해 조사를 하기 시작\n",
    "- ~~수도승은 시간이 많았겠지~~\n",
    "- $M_{31}$, $M_{67}$, $M_{127}$, $M_{257}$이 소수라고 결론"
   ]
  },
  {
   "cell_type": "code",
   "execution_count": 10,
   "metadata": {},
   "outputs": [],
   "source": [
    "import pandas as pd"
   ]
  },
  {
   "cell_type": "code",
   "execution_count": 11,
   "metadata": {
    "scrolled": true
   },
   "outputs": [
    {
     "data": {
      "text/html": [
       "<div>\n",
       "<style scoped>\n",
       "    .dataframe tbody tr th:only-of-type {\n",
       "        vertical-align: middle;\n",
       "    }\n",
       "\n",
       "    .dataframe tbody tr th {\n",
       "        vertical-align: top;\n",
       "    }\n",
       "\n",
       "    .dataframe thead th {\n",
       "        text-align: right;\n",
       "    }\n",
       "</style>\n",
       "<table border=\"1\" class=\"dataframe\">\n",
       "  <thead>\n",
       "    <tr style=\"text-align: right;\">\n",
       "      <th></th>\n",
       "      <th>n</th>\n",
       "      <th>Mn</th>\n",
       "      <th>Prime?</th>\n",
       "    </tr>\n",
       "  </thead>\n",
       "  <tbody>\n",
       "    <tr>\n",
       "      <th>0</th>\n",
       "      <td>31</td>\n",
       "      <td>2,147,483,647</td>\n",
       "      <td>True</td>\n",
       "    </tr>\n",
       "    <tr>\n",
       "      <th>1</th>\n",
       "      <td>67</td>\n",
       "      <td>147,573,952,589,676,412,927</td>\n",
       "      <td>False</td>\n",
       "    </tr>\n",
       "    <tr>\n",
       "      <th>2</th>\n",
       "      <td>127</td>\n",
       "      <td>170,141,183,460,469,231,731,687,303,715,884,10...</td>\n",
       "      <td>True</td>\n",
       "    </tr>\n",
       "    <tr>\n",
       "      <th>3</th>\n",
       "      <td>257</td>\n",
       "      <td>231,584,178,474,632,390,847,141,970,017,375,81...</td>\n",
       "      <td>False</td>\n",
       "    </tr>\n",
       "  </tbody>\n",
       "</table>\n",
       "</div>"
      ],
      "text/plain": [
       "     n                                                 Mn  Prime?\n",
       "0   31                                      2,147,483,647    True\n",
       "1   67                        147,573,952,589,676,412,927   False\n",
       "2  127  170,141,183,460,469,231,731,687,303,715,884,10...    True\n",
       "3  257  231,584,178,474,632,390,847,141,970,017,375,81...   False"
      ]
     },
     "execution_count": 11,
     "metadata": {},
     "output_type": "execute_result"
    }
   ],
   "source": [
    "m4primes = [(n, f'{2**n - 1:,}', sympy.ntheory.isprime(2**n - 1)) for n in [31, 67, 127, 257]]\n",
    "pd.DataFrame(m4primes, columns=['n', 'Mn', 'Prime?'])"
   ]
  },
  {
   "cell_type": "markdown",
   "metadata": {},
   "source": [
    "- 메르센이 어떻게 이 숫자 찾은 과정은 알려지지 않았다\n",
    "- $M_{31}$만 해도 10자리 숫자로 ~~당시 기술로는~~ 아주 큰 숫자 \n",
    "\n",
    "### 그 후\n",
    "- 1750년 오일러 형님이 $M_{31}$은 소수가 맞다고 증명\n",
    "- 1876년 Edouard Lucas가 $M_{67}$이 소수가 아니라고 발표했지만 어떤 수로 소인수분해되는지는 밝히지 못함\n",
    "- 이후 Derrick Lehmer라는 사람이 Lucas의 방법을 간결하게 개선"
   ]
  },
  {
   "cell_type": "code",
   "execution_count": 6,
   "metadata": {},
   "outputs": [],
   "source": [
    "def lucas(p):\n",
    "    U = 4\n",
    "    Mp = 2 ** p - 1\n",
    "    for _ in range(p - 2):\n",
    "        U = (U * U - 2) % Mp\n",
    "    return U == 0"
   ]
  },
  {
   "cell_type": "code",
   "execution_count": 7,
   "metadata": {},
   "outputs": [
    {
     "data": {
      "text/plain": [
       "[True, False, True, False]"
      ]
     },
     "execution_count": 7,
     "metadata": {},
     "output_type": "execute_result"
    }
   ],
   "source": [
    "[lucas(p) for p in (31, 67, 127, 257)]"
   ]
  },
  {
   "cell_type": "markdown",
   "metadata": {},
   "source": [
    "- 된다! 근데 왜 되는거지? ~~저는 몰라요~~\n",
    "- 그 뒤로도 $M_{61}$, $M_{89}$, $M_{107}$이 메르센 소수임이 밝혀짐\n",
    "- 결론적으로 메르센 형님의 찍기는 반타작: $M_{31}$(O), $M_{67}$(X), $M_{127}$(O), $M_{257}$(X)\n",
    "- ~~많은 수학자들을 낚아 이걸 증명하게 만든 것은 큰 그림?~~\n",
    "\n",
    "## $M_{67}$의 소인수 분해\n",
    "- Lucas의 방법으로 $M_{67}$이 소수가 아닌 건 알았지만 이 수는 어떤 수들의 곱인지는 밝혀지지 않은 상황\n",
    "- 1903년, 수학자 Frank Nelson Cole(1861-1926)은 American Mathematical Society에서 'On the Factorisation of Large Numbers'라는 강의를 하게 되는데...\n",
    "  - 아무말 하지 않고 $2^{67}$을 계산하기 시작, 그리고 1을 신중하게(carefully) 뺀다\n",
    "- 이 숫자는 무려"
   ]
  },
  {
   "cell_type": "code",
   "execution_count": 12,
   "metadata": {},
   "outputs": [
    {
     "data": {
      "text/plain": [
       "'147,573,952,589,676,412,927'"
      ]
     },
     "execution_count": 12,
     "metadata": {},
     "output_type": "execute_result"
    }
   ],
   "source": [
    "m67 = 2**67 - 1\n",
    "f'{m67:,}'"
   ]
  },
  {
   "cell_type": "markdown",
   "metadata": {},
   "source": [
    "- 그리고 다른 칠판에 193,707,721와 761,838,257,287를 쓰고 곱하기 시작"
   ]
  },
  {
   "cell_type": "code",
   "execution_count": 13,
   "metadata": {
    "scrolled": true
   },
   "outputs": [
    {
     "data": {
      "text/plain": [
       "'147,573,952,589,676,412,927'"
      ]
     },
     "execution_count": 13,
     "metadata": {},
     "output_type": "execute_result"
    }
   ],
   "source": [
    "f'{193_707_721 * 761_838_257_287:,}'"
   ]
  },
  {
   "cell_type": "markdown",
   "metadata": {},
   "source": [
    "- 아무 말 없이 계산을 끝냈고, Cole은 기립 박수를 받음\n",
    "- Cole이 후에 밝히길 이걸 찾아내는데 매주 일요일을 투자했고 3년이 걸렸다고 함"
   ]
  },
  {
   "cell_type": "code",
   "execution_count": 14,
   "metadata": {},
   "outputs": [
    {
     "data": {
      "text/plain": [
       "False"
      ]
     },
     "execution_count": 14,
     "metadata": {},
     "output_type": "execute_result"
    }
   ],
   "source": [
    "sympy.ntheory.isprime(2**67 - 1)"
   ]
  },
  {
   "cell_type": "code",
   "execution_count": 15,
   "metadata": {},
   "outputs": [
    {
     "name": "stdout",
     "output_type": "stream",
     "text": [
      "Wall time: 0 ns\n",
      "{193707721: 1, 761838257287: 1}\n"
     ]
    }
   ],
   "source": [
    "%time\n",
    "print(sympy.factorint(2**67 - 1))"
   ]
  },
  {
   "cell_type": "markdown",
   "metadata": {},
   "source": [
    "~~아... Cole 형님... OTL~~"
   ]
  },
  {
   "cell_type": "markdown",
   "metadata": {},
   "source": [
    "## 이제 우리에겐 컴퓨터가 있지\n",
    "- 컴퓨터가 발전하면서 (당연히) 그 뒤로 많은 메르센 소수가 발견되었다\n",
    "\n",
    "### GIMPS 프로젝트\n",
    "- [Great Internet Mersenne Prime Search](https://www.mersenne.org/) 프로젝트는 Prime95라는 소프트웨어 제공\n",
    "- 이 소프트웨어는 CPU & GPU의 성능을 최대로 활용하기 때문에 오버클럭 후 안정성 테스트에 사용하기도 함\n",
    "\n",
    "### 프로젝트의 성과\n",
    "- 2018년 1월 3일 50번째 메르센 소수가 발견됨 : $2^{77,232,917}-1$\n",
    "  - 23,249,425 digits\n",
    "- 발견 당시 인류가 알고 있는 가장 큰 소수\n",
    "- 50번째 메르센 발견 시점에서 **증명된 가장 큰 메르센 소수**는 $M_{37156667}$로 45번째 메르센 소수 (발견된 건 8년 전)\n",
    "- 2018년 12월 7일에 51번째 메르센 소수 발견 : $2^{82,589,933}-1$\n",
    "  - 24,862,048 digits\n",
    "  - Volunteer인 Patrick Laroche(from Florida)가 발견\n",
    "  - 소수를 찾겠다는 의지는 없었고 무료 스트레스 테스트로 활용... ~~로또~~\n",
    "- 51번째 메르센 소수 발견 시점에서 47번째 메르신 소수까지 공식 증명됨 (발견된 건 9년 전)"
   ]
  }
 ],
 "metadata": {
  "kernelspec": {
   "display_name": "Python 3",
   "language": "python",
   "name": "python3"
  },
  "language_info": {
   "codemirror_mode": {
    "name": "ipython",
    "version": 3
   },
   "file_extension": ".py",
   "mimetype": "text/x-python",
   "name": "python",
   "nbconvert_exporter": "python",
   "pygments_lexer": "ipython3",
   "version": "3.7.6"
  }
 },
 "nbformat": 4,
 "nbformat_minor": 2
}
