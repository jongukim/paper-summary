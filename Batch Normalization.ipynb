{
 "cells": [
  {
   "cell_type": "markdown",
   "metadata": {},
   "source": [
    "# Batch Normalization\n",
    "\n",
    "- a.k.a. BatchNorm, BN\n",
    "- [Paper](https://arxiv.org/abs/1502.03167): Batch Normalization: Accelerating Deep Network Training by Reducing Internal Covariate Shift\n",
    "- Sergey Ioffe et al. (Google)\n",
    "- Refs\n",
    "  - [1] https://towardsdatascience.com/batch-normalization-in-neural-networks-1ac91516821c\n",
    "  - [2] https://towardsdatascience.com/batch-normalization-theory-and-how-to-use-it-with-tensorflow-1892ca0173ad\n",
    "  - [3] https://shuuki4.wordpress.com/2016/01/13/batch-normalization-%EC%84%A4%EB%AA%85-%EB%B0%8F-%EA%B5%AC%ED%98%84/\n",
    "  - [4] https://www.analyticsvidhya.com/blog/2017/07/covariate-shift-the-hidden-problem-of-real-world-data-science/\n",
    "\n",
    "핵심은 매 layer마다 값을 정규분포로 바꿔서 내리는 것.\n",
    "그러면,\n",
    "- LR을 좀 높게 써도 된다. 10배에서 30배까지 늘려도 됐다\n",
    "- dropout을 아주 약간만 적용해도 된다 (5-10 퍼센트 정도)\n",
    "\n",
    "## from [4]\n",
    "- Dataset shift\n",
    "  - Training set과 test set에 차이가 있을 때 (두 집합이 다른 분산으로부터 추출됐을 때) 사실 그걸 만족하는 학습을 하는 건 불가능\n",
    "- 어떻게 해야 할까?\n",
    "  - dataset 정제를 위해 일부 sample을 drop하거나 특정 feature를 drop할 수 있을 것\n",
    "  - 하지만 정확히 버리는 것도 쉽지 않을 것\n",
    "- 논문 제목에 있는 covariate shift는 dataset shift의 한 종류라고 함\n",
    "  - \"shift in the independent variables\" (?)\n",
    "\n",
    "## from the paper & [2]\n",
    "- Input에서의 작은 차이는 NN의 # of layers가 많을수록 파장이 클 것\n",
    "- Internal covariate shift\n",
    "  - 매 계층에서의 activation의 distribution이 끊임없기 변하는 것\n",
    "- 매 layer마다 입력이 같은 distribution이 되도록 하면 어떨까? 학습이 안정적으로 되지 않을까?\n",
    "  - 입력이 $N(0, \\sigma^{2})$를 따르면 학습이 잘된다는 연구가 이미 있다고 (르쿤 형님의 98년 논문)\n",
    "  - 전체 feature의 상관관계를 구하고 정규화할 수도 있겠지만 수학적으로 복잡하다고\n",
    "  - 위에서 말한 르쿤 형님 논문을 보면 feature 간에 상관관계가 있더라도 개별적으로 정규화하면 학습 속도에 도움이 된다고 함\n",
    "- 각 feature를 개별적으로 $N(0, 1)$을 따르게 변환\n",
    "  - 변환을 위한 $\\mu$와 $\\sigma$는 전체 batch에서 가져오는 것이 아니라(역시 수학적으로 부담), mini-batch로부터 추출\n",
    "- 이걸 그대로 사용하지는 않고 scale & shift 수행\n",
    "\n",
    "### how to train\n",
    "- 모든 값을 $N(0, 1)$로 정규화 해버리면 non-linearity 효과가 감소하기 때문이라고\n",
    "- 왜? sigmoid 함수의 모양을 생각해보면, 값이 0 주변에 몰리면 직선처럼 되잖아[3]\n",
    "  - 그럴싸 하긴 한데... 다른 activation을 사용하면?\n",
    "- 여튼 $N(0, 1)$ 변환 뒤, 다시 $y = \\gamma x + \\beta$ 적용\n",
    "  - $\\gamma$와 $\\beta$는 학습하도록 함 (논문에서, 두 값이 backprop 가능(미분 가능)함을 간단히 식으로 표현)\n",
    "\n",
    "### how to infer\n",
    "- Training 시 얻은 $\\mu$와 $\\sigma$의 moving average를 대표값으로 사용\n",
    "\n",
    "### 추가 고려사항\n",
    "- BN을 적용하면 $N(0,1)$로 변환하기 때문에 bias가 별로 의미가 없을 수 있다고\n",
    "  - 일리가 있다: bias로 인한 shift가 우선 무시된 후 *scale & shift* 단계에서 $\\beta$로 shift될 것\n",
    "- CNN에서는 filter(channel) 마다 BN을 해주는 형태로 하면 된다고\n",
    "- Layer Norm에서 이야기한 것처럼 BN을 RNN에 적용하는 건 좀 어려울 것 같긴 함\n",
    "  - 논문 말미에서는 RNN에도 적용해보고 싶다고 이야기하긴 했다...\n",
    "\n",
    "## from [1]\n",
    "- 각 계층이 더 독립적인 특징을 표현할 수 있게 된다고 한다. 하지만 이유를 설명하지는 않았다.\n",
    "- 그리고 reg 효과가 발생하는 것은, 정규화를 하면서 hidden layer에 noise가 끼기 때문이라고 하는데, 이것도 설명이 좀 애매한 듯\n",
    "- Dropout을 완전히 걷어내기 보다는 살짝 섞는 것이 효과가 좋다고 말하고 있다\n",
    "\n",
    "## from [2]\n",
    "- 데이터를 정규화하는 이유를 생각해보면, sigmoid 등의 activation으로 값이 내부적으로 특정 범위로 줄어버리니 미리 $N(0, 1)$로 input data를 normalize하는 것이 도움이 될거라는 것\n",
    "- 이걸 매 layer마다 해준다고 생각하면 되겠다"
   ]
  },
  {
   "cell_type": "code",
   "execution_count": 1,
   "metadata": {},
   "outputs": [],
   "source": [
    "import tensorflow as tf\n",
    "\n",
    "tf.enable_eager_execution()\n",
    "keras = tf.keras"
   ]
  },
  {
   "cell_type": "code",
   "execution_count": 2,
   "metadata": {},
   "outputs": [],
   "source": [
    "(x_train, y_train), (x_test, y_test) = keras.datasets.fashion_mnist.load_data()\n",
    "\n",
    "x_train = x_train.astype('float32')\n",
    "x_test = x_test.astype('float32')\n",
    "\n",
    "x_train /= 255\n",
    "x_test /= 255"
   ]
  },
  {
   "cell_type": "code",
   "execution_count": 3,
   "metadata": {},
   "outputs": [],
   "source": [
    "def get_model(with_bn:bool=False):\n",
    "    inp = keras.layers.Input(shape=(28, 28,))\n",
    "    x = keras.layers.Flatten()(inp)\n",
    "    x = keras.layers.Dense(1024)(x)\n",
    "    if with_bn:\n",
    "        x = keras.layers.BatchNormalization()(x)\n",
    "    x = keras.layers.Activation(tf.nn.relu)(x)\n",
    "    x = keras.layers.Dense(1024)(x)\n",
    "    if with_bn:\n",
    "        x = keras.layers.BatchNormalization()(x)\n",
    "    x = keras.layers.Activation(tf.nn.relu)(x)\n",
    "    x = keras.layers.Dense(10)(x)\n",
    "    out = keras.layers.Activation(tf.nn.softmax)(x)\n",
    "\n",
    "    return keras.models.Model(inputs=inp, outputs=out)"
   ]
  },
  {
   "cell_type": "code",
   "execution_count": 4,
   "metadata": {},
   "outputs": [
    {
     "name": "stdout",
     "output_type": "stream",
     "text": [
      "WARNING:tensorflow:From c:\\users\\jongukim\\appdata\\local\\programs\\python\\python36\\lib\\site-packages\\tensorflow\\python\\ops\\resource_variable_ops.py:642: colocate_with (from tensorflow.python.framework.ops) is deprecated and will be removed in a future version.\n",
      "Instructions for updating:\n",
      "Colocations handled automatically by placer.\n",
      "Train on 60000 samples, validate on 10000 samples\n",
      "Epoch 1/20\n",
      "60000/60000 [==============================] - 3s 52us/sample - loss: 0.4648 - acc: 0.8320 - val_loss: 0.3963 - val_acc: 0.8592\n",
      "Epoch 2/20\n",
      "60000/60000 [==============================] - 2s 38us/sample - loss: 0.3453 - acc: 0.8729 - val_loss: 0.3521 - val_acc: 0.8724\n",
      "Epoch 3/20\n",
      "60000/60000 [==============================] - 2s 37us/sample - loss: 0.3117 - acc: 0.8860 - val_loss: 0.3540 - val_acc: 0.8737\n",
      "Epoch 4/20\n",
      "60000/60000 [==============================] - 2s 37us/sample - loss: 0.2877 - acc: 0.8922 - val_loss: 0.3326 - val_acc: 0.8806\n",
      "Epoch 5/20\n",
      "60000/60000 [==============================] - 2s 37us/sample - loss: 0.2673 - acc: 0.9004 - val_loss: 0.3338 - val_acc: 0.8789\n",
      "Epoch 6/20\n",
      "60000/60000 [==============================] - 2s 38us/sample - loss: 0.2551 - acc: 0.9045 - val_loss: 0.3714 - val_acc: 0.8677\n",
      "Epoch 7/20\n",
      "60000/60000 [==============================] - 2s 39us/sample - loss: 0.2434 - acc: 0.9076 - val_loss: 0.3432 - val_acc: 0.8745\n",
      "Epoch 8/20\n",
      "60000/60000 [==============================] - 2s 37us/sample - loss: 0.2277 - acc: 0.9135 - val_loss: 0.3111 - val_acc: 0.8925\n",
      "Epoch 9/20\n",
      "60000/60000 [==============================] - 2s 38us/sample - loss: 0.2187 - acc: 0.9155 - val_loss: 0.3467 - val_acc: 0.8809\n",
      "Epoch 10/20\n",
      "60000/60000 [==============================] - 2s 39us/sample - loss: 0.2111 - acc: 0.9196 - val_loss: 0.3214 - val_acc: 0.8921\n",
      "Epoch 11/20\n",
      "60000/60000 [==============================] - 2s 37us/sample - loss: 0.2001 - acc: 0.9224 - val_loss: 0.3388 - val_acc: 0.8843\n",
      "Epoch 12/20\n",
      "60000/60000 [==============================] - 2s 38us/sample - loss: 0.1888 - acc: 0.9281 - val_loss: 0.3424 - val_acc: 0.8878\n",
      "Epoch 13/20\n",
      "60000/60000 [==============================] - 2s 37us/sample - loss: 0.1841 - acc: 0.9296 - val_loss: 0.3470 - val_acc: 0.8862\n",
      "Epoch 14/20\n",
      "60000/60000 [==============================] - 2s 38us/sample - loss: 0.1751 - acc: 0.9331 - val_loss: 0.3244 - val_acc: 0.8935\n",
      "Epoch 15/20\n",
      "60000/60000 [==============================] - 2s 38us/sample - loss: 0.1653 - acc: 0.9361 - val_loss: 0.3286 - val_acc: 0.8935\n",
      "Epoch 16/20\n",
      "60000/60000 [==============================] - 2s 38us/sample - loss: 0.1626 - acc: 0.9377 - val_loss: 0.3413 - val_acc: 0.8940\n",
      "Epoch 17/20\n",
      "60000/60000 [==============================] - 2s 37us/sample - loss: 0.1498 - acc: 0.9426 - val_loss: 0.3598 - val_acc: 0.8922\n",
      "Epoch 18/20\n",
      "60000/60000 [==============================] - 2s 38us/sample - loss: 0.1465 - acc: 0.9439 - val_loss: 0.3503 - val_acc: 0.8939\n",
      "Epoch 19/20\n",
      "60000/60000 [==============================] - 2s 37us/sample - loss: 0.1430 - acc: 0.9451 - val_loss: 0.3574 - val_acc: 0.8935\n",
      "Epoch 20/20\n",
      "60000/60000 [==============================] - 2s 37us/sample - loss: 0.1328 - acc: 0.9483 - val_loss: 0.3957 - val_acc: 0.8923\n"
     ]
    },
    {
     "data": {
      "text/plain": [
       "<tensorflow.python.keras.callbacks.History at 0x1c46c007e80>"
      ]
     },
     "execution_count": 4,
     "metadata": {},
     "output_type": "execute_result"
    }
   ],
   "source": [
    "model = get_model(with_bn=False)\n",
    "model.compile(optimizer='adam', loss='sparse_categorical_crossentropy', metrics=['accuracy'])\n",
    "model.fit(x_train, y_train, validation_data=(x_test, y_test), epochs=20, shuffle=True, batch_size=128)"
   ]
  },
  {
   "cell_type": "code",
   "execution_count": 5,
   "metadata": {},
   "outputs": [
    {
     "name": "stdout",
     "output_type": "stream",
     "text": [
      "Train on 60000 samples, validate on 10000 samples\n",
      "WARNING:tensorflow:From c:\\users\\jongukim\\appdata\\local\\programs\\python\\python36\\lib\\site-packages\\tensorflow\\python\\ops\\math_ops.py:3066: to_int32 (from tensorflow.python.ops.math_ops) is deprecated and will be removed in a future version.\n",
      "Instructions for updating:\n",
      "Use tf.cast instead.\n",
      "Epoch 1/20\n",
      "60000/60000 [==============================] - 4s 60us/sample - loss: 0.4310 - acc: 0.8459 - val_loss: 0.4640 - val_acc: 0.8330\n",
      "Epoch 2/20\n",
      "60000/60000 [==============================] - 3s 50us/sample - loss: 0.3225 - acc: 0.8805 - val_loss: 0.4189 - val_acc: 0.8515\n",
      "Epoch 3/20\n",
      "60000/60000 [==============================] - 3s 49us/sample - loss: 0.2818 - acc: 0.8932 - val_loss: 0.3504 - val_acc: 0.8735\n",
      "Epoch 4/20\n",
      "60000/60000 [==============================] - 3s 49us/sample - loss: 0.2524 - acc: 0.9052 - val_loss: 0.3840 - val_acc: 0.8702\n",
      "Epoch 5/20\n",
      "60000/60000 [==============================] - 3s 50us/sample - loss: 0.2318 - acc: 0.9127 - val_loss: 0.4228 - val_acc: 0.8476\n",
      "Epoch 6/20\n",
      "60000/60000 [==============================] - 3s 50us/sample - loss: 0.2127 - acc: 0.9194 - val_loss: 0.3489 - val_acc: 0.8802\n",
      "Epoch 7/20\n",
      "60000/60000 [==============================] - 3s 50us/sample - loss: 0.1976 - acc: 0.9238 - val_loss: 0.3851 - val_acc: 0.8757\n",
      "Epoch 8/20\n",
      "60000/60000 [==============================] - 3s 50us/sample - loss: 0.1813 - acc: 0.9313 - val_loss: 0.4581 - val_acc: 0.8477\n",
      "Epoch 9/20\n",
      "60000/60000 [==============================] - 3s 50us/sample - loss: 0.1644 - acc: 0.9366 - val_loss: 0.3837 - val_acc: 0.8799\n",
      "Epoch 10/20\n",
      "60000/60000 [==============================] - 3s 50us/sample - loss: 0.1527 - acc: 0.9425 - val_loss: 0.4385 - val_acc: 0.8598\n",
      "Epoch 11/20\n",
      "60000/60000 [==============================] - 3s 50us/sample - loss: 0.1403 - acc: 0.9474 - val_loss: 0.5223 - val_acc: 0.8703\n",
      "Epoch 12/20\n",
      "60000/60000 [==============================] - 3s 49us/sample - loss: 0.1304 - acc: 0.9505 - val_loss: 0.4241 - val_acc: 0.8679\n",
      "Epoch 13/20\n",
      "60000/60000 [==============================] - 3s 50us/sample - loss: 0.1183 - acc: 0.9545 - val_loss: 0.3852 - val_acc: 0.8933\n",
      "Epoch 14/20\n",
      "60000/60000 [==============================] - 3s 49us/sample - loss: 0.1085 - acc: 0.9593 - val_loss: 0.4509 - val_acc: 0.8736\n",
      "Epoch 15/20\n",
      "60000/60000 [==============================] - 3s 50us/sample - loss: 0.1003 - acc: 0.9626 - val_loss: 0.4638 - val_acc: 0.8756\n",
      "Epoch 16/20\n",
      "60000/60000 [==============================] - 3s 50us/sample - loss: 0.0933 - acc: 0.9645 - val_loss: 0.4492 - val_acc: 0.8851\n",
      "Epoch 17/20\n",
      "60000/60000 [==============================] - 3s 50us/sample - loss: 0.0851 - acc: 0.9675 - val_loss: 0.4889 - val_acc: 0.8833\n",
      "Epoch 18/20\n",
      "60000/60000 [==============================] - 3s 50us/sample - loss: 0.0824 - acc: 0.9695 - val_loss: 0.4390 - val_acc: 0.8862\n",
      "Epoch 19/20\n",
      "60000/60000 [==============================] - 3s 50us/sample - loss: 0.0724 - acc: 0.9726 - val_loss: 0.4106 - val_acc: 0.8862\n",
      "Epoch 20/20\n",
      "60000/60000 [==============================] - 3s 51us/sample - loss: 0.0726 - acc: 0.9720 - val_loss: 0.4559 - val_acc: 0.8906\n"
     ]
    },
    {
     "data": {
      "text/plain": [
       "<tensorflow.python.keras.callbacks.History at 0x1c47845eac8>"
      ]
     },
     "execution_count": 5,
     "metadata": {},
     "output_type": "execute_result"
    }
   ],
   "source": [
    "model = get_model(with_bn=True)\n",
    "model.compile(optimizer='adam', loss='sparse_categorical_crossentropy', metrics=['accuracy'])\n",
    "model.fit(x_train, y_train, validation_data=(x_test, y_test), epochs=20, shuffle=True, batch_size=128)"
   ]
  },
  {
   "cell_type": "code",
   "execution_count": 6,
   "metadata": {},
   "outputs": [
    {
     "data": {
      "text/plain": [
       "{'axis': [1],\n",
       " 'beta_constraint': None,\n",
       " 'beta_initializer': {'class_name': 'Zeros', 'config': {'dtype': 'float32'}},\n",
       " 'beta_regularizer': None,\n",
       " 'center': True,\n",
       " 'dtype': 'float32',\n",
       " 'epsilon': 0.001,\n",
       " 'gamma_constraint': None,\n",
       " 'gamma_initializer': {'class_name': 'Ones', 'config': {'dtype': 'float32'}},\n",
       " 'gamma_regularizer': None,\n",
       " 'momentum': 0.99,\n",
       " 'moving_mean_initializer': {'class_name': 'Zeros',\n",
       "  'config': {'dtype': 'float32'}},\n",
       " 'moving_variance_initializer': {'class_name': 'Ones',\n",
       "  'config': {'dtype': 'float32'}},\n",
       " 'name': 'batch_normalization_v1',\n",
       " 'scale': True,\n",
       " 'trainable': True}"
      ]
     },
     "execution_count": 6,
     "metadata": {},
     "output_type": "execute_result"
    }
   ],
   "source": [
    "bn1 = model.get_layer(index=3)\n",
    "bn1.get_config()"
   ]
  },
  {
   "cell_type": "code",
   "execution_count": 37,
   "metadata": {},
   "outputs": [
    {
     "data": {
      "text/plain": [
       "array([[-0.3569919 ,  0.86381364,  0.27102095, ..., -1.0065881 ,\n",
       "        -0.5474212 ,  0.11393583],\n",
       "       [ 1.1187692 , -0.88889194, -1.3477831 , ...,  0.27076507,\n",
       "        -2.6756635 ,  0.5419376 ],\n",
       "       [-1.6461065 ,  0.05765703,  0.6894312 , ..., -0.03814793,\n",
       "        -0.660334  ,  0.23016584],\n",
       "       ...,\n",
       "       [-1.7258768 , -1.8586428 ,  1.643528  , ..., -1.067124  ,\n",
       "        -1.082702  , -0.0271554 ],\n",
       "       [ 0.64741015, -0.142849  ,  0.87969005, ..., -0.29877222,\n",
       "        -1.0733215 ,  0.4437673 ],\n",
       "       [-1.0654436 ,  0.18742374,  0.36004382, ..., -1.3328171 ,\n",
       "        -0.46770176,  0.73170936]], dtype=float32)"
      ]
     },
     "execution_count": 37,
     "metadata": {},
     "output_type": "execute_result"
    }
   ],
   "source": [
    "bn = keras.models.Model(inputs=model.input, outputs=bn1.output)\n",
    "bn.predict(x_test)"
   ]
  },
  {
   "cell_type": "code",
   "execution_count": 38,
   "metadata": {},
   "outputs": [
    {
     "data": {
      "text/plain": [
       "<tf.Variable 'batch_normalization_v1/beta:0' shape=(1024,) dtype=float32, numpy=\n",
       "array([-0.3837634 , -0.3934848 , -0.37708038, ..., -0.41031137,\n",
       "       -0.30044636, -0.23560035], dtype=float32)>"
      ]
     },
     "execution_count": 38,
     "metadata": {},
     "output_type": "execute_result"
    }
   ],
   "source": [
    "bn1.beta"
   ]
  },
  {
   "cell_type": "code",
   "execution_count": 39,
   "metadata": {},
   "outputs": [
    {
     "data": {
      "text/plain": [
       "<tf.Variable 'batch_normalization_v1/gamma:0' shape=(1024,) dtype=float32, numpy=\n",
       "array([0.86871845, 0.86149263, 0.97854096, ..., 0.7506173 , 0.8694049 ,\n",
       "       1.168045  ], dtype=float32)>"
      ]
     },
     "execution_count": 39,
     "metadata": {},
     "output_type": "execute_result"
    }
   ],
   "source": [
    "bn1.gamma"
   ]
  },
  {
   "cell_type": "code",
   "execution_count": 40,
   "metadata": {},
   "outputs": [],
   "source": [
    "import numpy as np"
   ]
  },
  {
   "cell_type": "code",
   "execution_count": 46,
   "metadata": {},
   "outputs": [
    {
     "data": {
      "text/plain": [
       "array([-0.3221125 , -0.3588441 ,  0.05215846, ..., -0.48832455,\n",
       "       -1.1836953 ,  0.05318708], dtype=float32)"
      ]
     },
     "execution_count": 46,
     "metadata": {},
     "output_type": "execute_result"
    }
   ],
   "source": [
    "np.mean(_37, axis=0)"
   ]
  },
  {
   "cell_type": "code",
   "execution_count": 48,
   "metadata": {},
   "outputs": [
    {
     "data": {
      "text/plain": [
       "0.00021403958"
      ]
     },
     "execution_count": 48,
     "metadata": {},
     "output_type": "execute_result"
    }
   ],
   "source": [
    "tf.reduce_mean(np.mean(_37, axis=0) - _38).numpy()"
   ]
  },
  {
   "cell_type": "code",
   "execution_count": 47,
   "metadata": {
    "scrolled": true
   },
   "outputs": [
    {
     "data": {
      "text/plain": [
       "array([0.8749544 , 0.8804413 , 0.8000696 , ..., 0.70178604, 1.0543003 ,\n",
       "       1.1072395 ], dtype=float32)"
      ]
     },
     "execution_count": 47,
     "metadata": {},
     "output_type": "execute_result"
    }
   ],
   "source": [
    "np.std(_37, axis=0)"
   ]
  },
  {
   "cell_type": "code",
   "execution_count": 49,
   "metadata": {},
   "outputs": [
    {
     "data": {
      "text/plain": [
       "0.0005076157"
      ]
     },
     "execution_count": 49,
     "metadata": {},
     "output_type": "execute_result"
    }
   ],
   "source": [
    "tf.reduce_mean(np.std(_37, axis=0) - _39).numpy()"
   ]
  }
 ],
 "metadata": {
  "kernelspec": {
   "display_name": "Python 3",
   "language": "python",
   "name": "python3"
  },
  "language_info": {
   "codemirror_mode": {
    "name": "ipython",
    "version": 3
   },
   "file_extension": ".py",
   "mimetype": "text/x-python",
   "name": "python",
   "nbconvert_exporter": "python",
   "pygments_lexer": "ipython3",
   "version": "3.6.8"
  }
 },
 "nbformat": 4,
 "nbformat_minor": 2
}
