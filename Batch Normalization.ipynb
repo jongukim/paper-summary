{
 "cells": [
  {
   "cell_type": "markdown",
   "metadata": {},
   "source": [
    "# Batch Normalization\n",
    "\n",
    "- a.k.a. BatchNorm, BN\n",
    "- [Paper](https://arxiv.org/abs/1502.03167): Batch Normalization: Accelerating Deep Network Training by Reducing Internal Covariate Shift\n",
    "- Sergey Ioffe et al. (Google), 2015\n",
    "- Refs\n",
    "  - [1] https://towardsdatascience.com/batch-normalization-in-neural-networks-1ac91516821c\n",
    "  - [2] https://towardsdatascience.com/batch-normalization-theory-and-how-to-use-it-with-tensorflow-1892ca0173ad\n",
    "  - [3] https://shuuki4.wordpress.com/2016/01/13/batch-normalization-%EC%84%A4%EB%AA%85-%EB%B0%8F-%EA%B5%AC%ED%98%84/\n",
    "  - [4] https://www.analyticsvidhya.com/blog/2017/07/covariate-shift-the-hidden-problem-of-real-world-data-science/\n",
    "\n",
    "핵심은 매 layer마다 값을 정규분포로 바꿔서 내리는 것.\n",
    "그러면,\n",
    "- LR을 좀 높게 써도 된다. 10배에서 30배까지 늘려도 됐다\n",
    "- dropout을 아주 약간만 적용해도 된다 (5-10 퍼센트 정도)\n",
    "\n",
    "## from [4]\n",
    "- Dataset shift\n",
    "  - Training set과 test set에 차이가 있을 때 (두 집합이 다른 분산으로부터 추출됐을 때) 사실 그걸 만족하는 학습을 하는 건 불가능\n",
    "- 어떻게 해야 할까?\n",
    "  - dataset 정제를 위해 일부 sample을 drop하거나 특정 feature를 drop할 수 있을 것\n",
    "  - 하지만 정확히 버리는 것도 쉽지 않을 것\n",
    "- 논문 제목에 있는 covariate shift는 dataset shift의 한 종류라고 함\n",
    "  - \"shift in the independent variables\" (?)\n",
    "\n",
    "## from the paper & [2]\n",
    "- Input에서의 작은 차이는 NN의 # of layers가 많을수록 파장이 클 것\n",
    "- Internal covariate shift\n",
    "  - 매 계층에서의 activation의 distribution이 끊임없기 변하는 것\n",
    "- 매 layer마다 입력이 같은 distribution이 되도록 하면 어떨까? 학습이 안정적으로 되지 않을까?\n",
    "  - 입력이 $N(0, \\sigma^{2})$를 따르면 학습이 잘된다는 연구가 이미 있다고 (르쿤 형님의 98년 논문)\n",
    "  - 전체 feature의 상관관계를 구하고 정규화할 수도 있겠지만 수학적으로 복잡하다고\n",
    "  - 위에서 말한 르쿤 형님 논문을 보면 feature 간에 상관관계가 있더라도 개별적으로 정규화하면 학습 속도에 도움이 된다고 함\n",
    "- 각 feature를 개별적으로 $N(0, 1)$을 따르게 변환\n",
    "  - 변환을 위한 $\\mu$와 $\\sigma$는 전체 batch에서 가져오는 것이 아니라(역시 수학적으로 부담), mini-batch로부터 추출\n",
    "- 이걸 그대로 사용하지는 않고 scale & shift 수행\n",
    "\n",
    "### how to train\n",
    "- 모든 값을 $N(0, 1)$로 정규화 해버리면 non-linearity 효과가 감소하기 때문이라고\n",
    "- 왜? sigmoid 함수의 모양을 생각해보면, 값이 0 주변에 몰리면 직선처럼 되잖아[3]\n",
    "  - 그럴싸 하긴 한데... 다른 activation을 사용하면?\n",
    "- 여튼 $N(0, 1)$ 변환 뒤, 다시 $y = \\gamma x + \\beta$ 적용\n",
    "  - $\\gamma$와 $\\beta$는 학습하도록 함 (논문에서, 두 값이 backprop 가능(미분 가능)함을 간단히 식으로 표현)\n",
    "\n",
    "### how to infer\n",
    "- Training 시 얻은 $\\mu$와 $\\sigma$의 moving average를 대표값으로 사용\n",
    "\n",
    "### 추가 고려사항\n",
    "- BN을 적용하면 $N(0,1)$로 변환하기 때문에 bias가 별로 의미가 없을 수 있다고\n",
    "  - 일리가 있다: bias로 인한 shift가 우선 무시된 후 *scale & shift* 단계에서 $\\beta$로 shift될 것\n",
    "- CNN에서는 filter(channel) 마다 BN을 해주는 형태로 하면 된다고\n",
    "- Layer Norm에서 이야기한 것처럼 BN을 RNN에 적용하는 건 좀 어려울 것 같긴 함\n",
    "  - 논문 말미에서는 RNN에도 적용해보고 싶다고 이야기하긴 했다...\n",
    "\n",
    "## from [1]\n",
    "- 각 계층이 더 독립적인 특징을 표현할 수 있게 된다고 한다. 하지만 이유를 설명하지는 않았다.\n",
    "- 그리고 reg 효과가 발생하는 것은, 정규화를 하면서 hidden layer에 noise가 끼기 때문이라고 하는데, 이것도 설명이 좀 애매한 듯\n",
    "- Dropout을 완전히 걷어내기 보다는 살짝 섞는 것이 효과가 좋다고 말하고 있다\n",
    "\n",
    "## from [2]\n",
    "- 데이터를 정규화하는 이유를 생각해보면, sigmoid 등의 activation으로 값이 내부적으로 특정 범위로 줄어버리니 미리 $N(0, 1)$로 input data를 normalize하는 것이 도움이 될거라는 것\n",
    "- 이걸 매 layer마다 해준다고 생각하면 되겠다"
   ]
  },
  {
   "cell_type": "code",
   "execution_count": 1,
   "metadata": {},
   "outputs": [],
   "source": [
    "import tensorflow as tf\n",
    "\n",
    "tf.enable_eager_execution()\n",
    "keras = tf.keras"
   ]
  },
  {
   "cell_type": "code",
   "execution_count": 2,
   "metadata": {},
   "outputs": [],
   "source": [
    "(x_train, y_train), (x_test, y_test) = keras.datasets.fashion_mnist.load_data()\n",
    "\n",
    "x_train = x_train.astype('float32')\n",
    "x_test = x_test.astype('float32')\n",
    "\n",
    "x_train /= 255\n",
    "x_test /= 255"
   ]
  },
  {
   "cell_type": "code",
   "execution_count": 3,
   "metadata": {},
   "outputs": [],
   "source": [
    "def get_model(with_bn:bool=False):\n",
    "    inp = keras.layers.Input(shape=(28, 28,))\n",
    "    x = keras.layers.Flatten()(inp)\n",
    "    x = keras.layers.Dense(1024)(x)\n",
    "    if with_bn:\n",
    "        x = keras.layers.BatchNormalization()(x)\n",
    "    x = keras.layers.Activation(tf.nn.relu)(x)\n",
    "    x = keras.layers.Dense(1024)(x)\n",
    "    if with_bn:\n",
    "        x = keras.layers.BatchNormalization()(x)\n",
    "    x = keras.layers.Activation(tf.nn.relu)(x)\n",
    "    x = keras.layers.Dense(10)(x)\n",
    "    out = keras.layers.Activation(tf.nn.softmax)(x)\n",
    "\n",
    "    return keras.models.Model(inputs=inp, outputs=out)"
   ]
  },
  {
   "cell_type": "code",
   "execution_count": 4,
   "metadata": {},
   "outputs": [
    {
     "name": "stdout",
     "output_type": "stream",
     "text": [
      "WARNING:tensorflow:From c:\\users\\jongukim\\appdata\\local\\programs\\python\\python36\\lib\\site-packages\\tensorflow\\python\\ops\\resource_variable_ops.py:642: colocate_with (from tensorflow.python.framework.ops) is deprecated and will be removed in a future version.\n",
      "Instructions for updating:\n",
      "Colocations handled automatically by placer.\n",
      "Train on 60000 samples, validate on 10000 samples\n",
      "Epoch 1/20\n",
      "60000/60000 [==============================] - 3s 51us/sample - loss: 0.4660 - acc: 0.8328 - val_loss: 0.3959 - val_acc: 0.8570\n",
      "Epoch 2/20\n",
      "60000/60000 [==============================] - 2s 39us/sample - loss: 0.3499 - acc: 0.8714 - val_loss: 0.3770 - val_acc: 0.8629\n",
      "Epoch 3/20\n",
      "60000/60000 [==============================] - 2s 38us/sample - loss: 0.3114 - acc: 0.8838 - val_loss: 0.3722 - val_acc: 0.8656\n",
      "Epoch 4/20\n",
      "60000/60000 [==============================] - 2s 39us/sample - loss: 0.2876 - acc: 0.8930 - val_loss: 0.3409 - val_acc: 0.8796\n",
      "Epoch 5/20\n",
      "60000/60000 [==============================] - 2s 40us/sample - loss: 0.2720 - acc: 0.8983 - val_loss: 0.3544 - val_acc: 0.8751\n",
      "Epoch 6/20\n",
      "60000/60000 [==============================] - 2s 38us/sample - loss: 0.2543 - acc: 0.9037 - val_loss: 0.3412 - val_acc: 0.8767\n",
      "Epoch 7/20\n",
      "60000/60000 [==============================] - 2s 39us/sample - loss: 0.2398 - acc: 0.9092 - val_loss: 0.3233 - val_acc: 0.8855\n",
      "Epoch 8/20\n",
      "60000/60000 [==============================] - 2s 38us/sample - loss: 0.2291 - acc: 0.9130 - val_loss: 0.3224 - val_acc: 0.8885\n",
      "Epoch 9/20\n",
      "60000/60000 [==============================] - 2s 39us/sample - loss: 0.2178 - acc: 0.9177 - val_loss: 0.3159 - val_acc: 0.8892\n",
      "Epoch 10/20\n",
      "60000/60000 [==============================] - 2s 39us/sample - loss: 0.2094 - acc: 0.9208 - val_loss: 0.3595 - val_acc: 0.8821\n",
      "Epoch 11/20\n",
      "60000/60000 [==============================] - 2s 39us/sample - loss: 0.2005 - acc: 0.9242 - val_loss: 0.3123 - val_acc: 0.8952\n",
      "Epoch 12/20\n",
      "60000/60000 [==============================] - 2s 39us/sample - loss: 0.1888 - acc: 0.9278 - val_loss: 0.3361 - val_acc: 0.8944\n",
      "Epoch 13/20\n",
      "60000/60000 [==============================] - 2s 38us/sample - loss: 0.1848 - acc: 0.9291 - val_loss: 0.3259 - val_acc: 0.8938\n",
      "Epoch 14/20\n",
      "60000/60000 [==============================] - 2s 38us/sample - loss: 0.1741 - acc: 0.9331 - val_loss: 0.3217 - val_acc: 0.8915\n",
      "Epoch 15/20\n",
      "60000/60000 [==============================] - 2s 38us/sample - loss: 0.1698 - acc: 0.9353 - val_loss: 0.3284 - val_acc: 0.8956\n",
      "Epoch 16/20\n",
      "60000/60000 [==============================] - 2s 39us/sample - loss: 0.1568 - acc: 0.9393 - val_loss: 0.3469 - val_acc: 0.8925\n",
      "Epoch 17/20\n",
      "60000/60000 [==============================] - 2s 38us/sample - loss: 0.1542 - acc: 0.9409 - val_loss: 0.3676 - val_acc: 0.8951\n",
      "Epoch 18/20\n",
      "60000/60000 [==============================] - 2s 38us/sample - loss: 0.1499 - acc: 0.9433 - val_loss: 0.3369 - val_acc: 0.8990\n",
      "Epoch 19/20\n",
      "60000/60000 [==============================] - 2s 38us/sample - loss: 0.1426 - acc: 0.9440 - val_loss: 0.4315 - val_acc: 0.8838\n",
      "Epoch 20/20\n",
      "60000/60000 [==============================] - 2s 38us/sample - loss: 0.1365 - acc: 0.9467 - val_loss: 0.3654 - val_acc: 0.8947\n"
     ]
    },
    {
     "data": {
      "text/plain": [
       "<tensorflow.python.keras.callbacks.History at 0x1f982b9bdd8>"
      ]
     },
     "execution_count": 4,
     "metadata": {},
     "output_type": "execute_result"
    }
   ],
   "source": [
    "model = get_model(with_bn=False)\n",
    "model.compile(optimizer='adam', loss='sparse_categorical_crossentropy', metrics=['accuracy'])\n",
    "model.fit(x_train, y_train, validation_data=(x_test, y_test), epochs=20, shuffle=True, batch_size=128)"
   ]
  },
  {
   "cell_type": "code",
   "execution_count": 5,
   "metadata": {},
   "outputs": [
    {
     "name": "stdout",
     "output_type": "stream",
     "text": [
      "Train on 60000 samples, validate on 10000 samples\n",
      "WARNING:tensorflow:From c:\\users\\jongukim\\appdata\\local\\programs\\python\\python36\\lib\\site-packages\\tensorflow\\python\\ops\\math_ops.py:3066: to_int32 (from tensorflow.python.ops.math_ops) is deprecated and will be removed in a future version.\n",
      "Instructions for updating:\n",
      "Use tf.cast instead.\n",
      "Epoch 1/20\n",
      "60000/60000 [==============================] - 4s 59us/sample - loss: 0.4348 - acc: 0.8444 - val_loss: 0.4735 - val_acc: 0.8294\n",
      "Epoch 2/20\n",
      "60000/60000 [==============================] - 3s 50us/sample - loss: 0.3216 - acc: 0.8809 - val_loss: 0.4273 - val_acc: 0.8467\n",
      "Epoch 3/20\n",
      "60000/60000 [==============================] - 3s 50us/sample - loss: 0.2809 - acc: 0.8945 - val_loss: 0.4579 - val_acc: 0.8520\n",
      "Epoch 4/20\n",
      "60000/60000 [==============================] - 3s 50us/sample - loss: 0.2562 - acc: 0.9022 - val_loss: 0.4150 - val_acc: 0.8524\n",
      "Epoch 5/20\n",
      "60000/60000 [==============================] - 3s 51us/sample - loss: 0.2327 - acc: 0.9128 - val_loss: 0.3569 - val_acc: 0.8785\n",
      "Epoch 6/20\n",
      "60000/60000 [==============================] - 3s 52us/sample - loss: 0.2161 - acc: 0.9183 - val_loss: 0.3465 - val_acc: 0.8810\n",
      "Epoch 7/20\n",
      "60000/60000 [==============================] - 3s 50us/sample - loss: 0.1958 - acc: 0.9255 - val_loss: 0.4453 - val_acc: 0.8636\n",
      "Epoch 8/20\n",
      "60000/60000 [==============================] - 3s 49us/sample - loss: 0.1804 - acc: 0.9331 - val_loss: 0.4539 - val_acc: 0.8645\n",
      "Epoch 9/20\n",
      "60000/60000 [==============================] - 3s 49us/sample - loss: 0.1651 - acc: 0.9376 - val_loss: 0.4036 - val_acc: 0.8733\n",
      "Epoch 10/20\n",
      "60000/60000 [==============================] - 3s 50us/sample - loss: 0.1550 - acc: 0.9412 - val_loss: 0.3564 - val_acc: 0.8827\n",
      "Epoch 11/20\n",
      "60000/60000 [==============================] - 3s 50us/sample - loss: 0.1410 - acc: 0.9473 - val_loss: 0.3858 - val_acc: 0.8747\n",
      "Epoch 12/20\n",
      "60000/60000 [==============================] - 3s 50us/sample - loss: 0.1267 - acc: 0.9516 - val_loss: 0.3914 - val_acc: 0.8866\n",
      "Epoch 13/20\n",
      "60000/60000 [==============================] - 3s 49us/sample - loss: 0.1232 - acc: 0.9530 - val_loss: 0.4409 - val_acc: 0.8808\n",
      "Epoch 14/20\n",
      "60000/60000 [==============================] - 3s 51us/sample - loss: 0.1100 - acc: 0.9589 - val_loss: 0.3992 - val_acc: 0.8897\n",
      "Epoch 15/20\n",
      "60000/60000 [==============================] - 3s 50us/sample - loss: 0.1013 - acc: 0.9624 - val_loss: 0.4212 - val_acc: 0.8841\n",
      "Epoch 16/20\n",
      "60000/60000 [==============================] - 3s 50us/sample - loss: 0.0927 - acc: 0.9650 - val_loss: 0.4797 - val_acc: 0.8751\n",
      "Epoch 17/20\n",
      "60000/60000 [==============================] - 3s 50us/sample - loss: 0.0852 - acc: 0.9683 - val_loss: 0.4975 - val_acc: 0.8729\n",
      "Epoch 18/20\n",
      "60000/60000 [==============================] - 3s 50us/sample - loss: 0.0820 - acc: 0.9692 - val_loss: 0.5122 - val_acc: 0.8709\n",
      "Epoch 19/20\n",
      "60000/60000 [==============================] - 3s 51us/sample - loss: 0.0771 - acc: 0.9707 - val_loss: 0.4750 - val_acc: 0.8879\n",
      "Epoch 20/20\n",
      "60000/60000 [==============================] - 3s 50us/sample - loss: 0.0682 - acc: 0.9749 - val_loss: 0.4397 - val_acc: 0.8926\n"
     ]
    },
    {
     "data": {
      "text/plain": [
       "<tensorflow.python.keras.callbacks.History at 0x1fb77d98c50>"
      ]
     },
     "execution_count": 5,
     "metadata": {},
     "output_type": "execute_result"
    }
   ],
   "source": [
    "model = get_model(with_bn=True)\n",
    "model.compile(optimizer='adam', loss='sparse_categorical_crossentropy', metrics=['accuracy'])\n",
    "model.fit(x_train, y_train, validation_data=(x_test, y_test), epochs=20, shuffle=True, batch_size=128)"
   ]
  },
  {
   "cell_type": "code",
   "execution_count": 6,
   "metadata": {},
   "outputs": [
    {
     "data": {
      "text/plain": [
       "{'axis': [1],\n",
       " 'beta_constraint': None,\n",
       " 'beta_initializer': {'class_name': 'Zeros', 'config': {'dtype': 'float32'}},\n",
       " 'beta_regularizer': None,\n",
       " 'center': True,\n",
       " 'dtype': 'float32',\n",
       " 'epsilon': 0.001,\n",
       " 'gamma_constraint': None,\n",
       " 'gamma_initializer': {'class_name': 'Ones', 'config': {'dtype': 'float32'}},\n",
       " 'gamma_regularizer': None,\n",
       " 'momentum': 0.99,\n",
       " 'moving_mean_initializer': {'class_name': 'Zeros',\n",
       "  'config': {'dtype': 'float32'}},\n",
       " 'moving_variance_initializer': {'class_name': 'Ones',\n",
       "  'config': {'dtype': 'float32'}},\n",
       " 'name': 'batch_normalization_v1',\n",
       " 'scale': True,\n",
       " 'trainable': True}"
      ]
     },
     "execution_count": 6,
     "metadata": {},
     "output_type": "execute_result"
    }
   ],
   "source": [
    "bn1 = model.get_layer(index=3)\n",
    "bn1.get_config()"
   ]
  },
  {
   "cell_type": "code",
   "execution_count": 7,
   "metadata": {},
   "outputs": [
    {
     "data": {
      "text/plain": [
       "array([[-0.44869298,  0.07892215, -0.26858023, ..., -1.3953226 ,\n",
       "         0.5594736 , -0.307774  ],\n",
       "       [-1.3418978 , -2.949014  , -1.0502021 , ..., -0.668557  ,\n",
       "        -2.867313  , -0.58744174],\n",
       "       [-3.4107683 ,  0.46822828, -0.2145659 , ...,  2.3570657 ,\n",
       "         0.26854962,  1.2525423 ],\n",
       "       ...,\n",
       "       [-0.19224165, -1.2856836 , -1.9171991 , ...,  0.10457253,\n",
       "         1.3688984 ,  0.31426135],\n",
       "       [-2.1334212 , -0.8088093 ,  0.9502682 , ...,  0.31572986,\n",
       "         0.12444431,  0.4506183 ],\n",
       "       [-0.4595825 , -0.00451753, -0.6693098 , ..., -0.9146105 ,\n",
       "         0.3749123 ,  1.0066435 ]], dtype=float32)"
      ]
     },
     "execution_count": 7,
     "metadata": {},
     "output_type": "execute_result"
    }
   ],
   "source": [
    "bn = keras.models.Model(inputs=model.input, outputs=bn1.output)\n",
    "bn.predict(x_test)"
   ]
  },
  {
   "cell_type": "code",
   "execution_count": 8,
   "metadata": {},
   "outputs": [
    {
     "data": {
      "text/plain": [
       "<tf.Variable 'batch_normalization_v1/beta:0' shape=(1024,) dtype=float32, numpy=\n",
       "array([-0.33852214, -0.29313052, -0.22454068, ..., -0.27685034,\n",
       "       -0.3549209 , -0.3226965 ], dtype=float32)>"
      ]
     },
     "execution_count": 8,
     "metadata": {},
     "output_type": "execute_result"
    }
   ],
   "source": [
    "bn1.beta"
   ]
  },
  {
   "cell_type": "code",
   "execution_count": 9,
   "metadata": {},
   "outputs": [
    {
     "data": {
      "text/plain": [
       "<tf.Variable 'batch_normalization_v1/gamma:0' shape=(1024,) dtype=float32, numpy=\n",
       "array([0.9952824 , 0.9475387 , 0.9208805 , ..., 0.9526772 , 0.82764727,\n",
       "       0.9900742 ], dtype=float32)>"
      ]
     },
     "execution_count": 9,
     "metadata": {},
     "output_type": "execute_result"
    }
   ],
   "source": [
    "bn1.gamma"
   ]
  },
  {
   "cell_type": "code",
   "execution_count": 10,
   "metadata": {},
   "outputs": [],
   "source": [
    "import numpy as np"
   ]
  },
  {
   "cell_type": "code",
   "execution_count": 12,
   "metadata": {},
   "outputs": [
    {
     "data": {
      "text/plain": [
       "<tf.Tensor: id=175585, shape=(10000, 1024), dtype=float32, numpy=\n",
       "array([[-0.11069304,  0.3926517 , -0.0478233 , ..., -1.1740307 ,\n",
       "         1.1048118 ,  0.0150721 ],\n",
       "       [-1.0081317 , -2.8029287 , -0.89659995, ..., -0.41116408,\n",
       "        -3.035583  , -0.26739937],\n",
       "       [-3.0868084 ,  0.8035121 ,  0.01083178, ...,  2.7647517 ,\n",
       "         0.75330466,  1.591031  ],\n",
       "       ...,\n",
       "       [ 0.14697385, -1.0475067 , -1.838087  , ...,  0.4003695 ,\n",
       "         2.0827947 ,  0.64334357],\n",
       "       [-1.8034067 , -0.5442298 ,  1.2757452 , ...,  0.6220157 ,\n",
       "         0.5791902 ,  0.78106755],\n",
       "       [-0.12163419,  0.3045923 , -0.48298246, ..., -0.6694399 ,\n",
       "         0.8818167 ,  1.342667  ]], dtype=float32)>"
      ]
     },
     "execution_count": 12,
     "metadata": {},
     "output_type": "execute_result"
    }
   ],
   "source": [
    "(_7 - _8) / _9"
   ]
  },
  {
   "cell_type": "code",
   "execution_count": 17,
   "metadata": {
    "scrolled": true
   },
   "outputs": [
    {
     "data": {
      "text/plain": [
       "-0.015364518"
      ]
     },
     "execution_count": 17,
     "metadata": {},
     "output_type": "execute_result"
    }
   ],
   "source": [
    "np.mean(np.mean(_12, axis=0))"
   ]
  },
  {
   "cell_type": "code",
   "execution_count": 16,
   "metadata": {},
   "outputs": [
    {
     "data": {
      "text/plain": [
       "1.0062392"
      ]
     },
     "execution_count": 16,
     "metadata": {},
     "output_type": "execute_result"
    }
   ],
   "source": [
    "np.mean(np.std(_12, axis=0))"
   ]
  }
 ],
 "metadata": {
  "kernelspec": {
   "display_name": "Python 3",
   "language": "python",
   "name": "python3"
  },
  "language_info": {
   "codemirror_mode": {
    "name": "ipython",
    "version": 3
   },
   "file_extension": ".py",
   "mimetype": "text/x-python",
   "name": "python",
   "nbconvert_exporter": "python",
   "pygments_lexer": "ipython3",
   "version": "3.6.8"
  }
 },
 "nbformat": 4,
 "nbformat_minor": 2
}
