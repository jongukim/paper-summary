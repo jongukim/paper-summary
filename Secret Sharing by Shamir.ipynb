{
 "cells": [
  {
   "cell_type": "markdown",
   "metadata": {},
   "source": [
    "# Secret Sharing by Adi Shamir\n",
    "\n",
    "- Paper: \"How to Share a Secret\", CACM, 1979\n",
    "- 2장짜리 논문\n",
    "- CACM의 에디터는? Rivest\n",
    "\n",
    "## (k, n) threshold scheme\n",
    "\n",
    "- 키를 하나만 사용하는 건 위험한 일\n",
    "  - 적어둔 종이가 사라지면? 누가 훔쳐가면?\n",
    "  - 머리로 기억하게 했는데 그 사람이 죽으면?\n",
    "  - 하드디스크에 보관했는데 해킹 당하면?\n",
    "- n명에게 키를 나누어주고 k명이 모이면 풀 수 있도록\n",
    "\n",
    "## 어떻게 하지?\n",
    "\n",
    "- 여러 방법이 있겠지만, shamir가 제안한 간단한 방법은, polynomial interpolation\n",
    "- 2차원 평면에 k개의 점이 있다면 k-1차 방정식을 복원할 수 있다\n",
    "\n",
    "1. 랜덤 계수를 가지는 k-1차 방정식을 하나 만든다. q(x)라고 하자.\n",
    "2. n개의 점을 얻는다. 예를 들면, $D_{1} = q(1)$, $D_{2} = q(2)$, ..., $D_{n} = q(n)$. 이 때, 꼭 1, 2, 3, .. 순서로 만들 필요는 없다. 어떤 숫자든 상관없다.\n",
    "3. n개 좌표를 n명에게 나누어준다.\n",
    "4. n명 중 k명이 모이면 이걸 이용해서 q(x)를 복원할 수 있다.\n",
    "\n",
    "## q(x) 복원해서 뭐해?\n",
    "\n",
    "- 정상적으로 참여한 k명은 모두 동일한 q(x)를 복원할 수 있을테니까 q(0)을 shared secret으로 쓰자.\n",
    "\n",
    "## 그런데... 걱정되는 것이 있어\n"
   ]
  },
  {
   "cell_type": "code",
   "execution_count": 1,
   "metadata": {},
   "outputs": [],
   "source": [
    "n, k = 11, 5"
   ]
  },
  {
   "cell_type": "code",
   "execution_count": 2,
   "metadata": {},
   "outputs": [],
   "source": [
    "import sympy\n",
    "import random"
   ]
  },
  {
   "cell_type": "code",
   "execution_count": 3,
   "metadata": {},
   "outputs": [
    {
     "data": {
      "text/latex": [
       "$\\displaystyle \\operatorname{Poly}{\\left( {a}_{0} x^{4} + {a}_{1} x^{3} + {a}_{2} x^{2} + {a}_{3} x + {a}_{4}, x, domain=EX \\right)}$"
      ],
      "text/plain": [
       "Poly(a[0]*x**4 + a[1]*x**3 + a[2]*x**2 + a[3]*x + a[4], x, domain='EX')"
      ]
     },
     "execution_count": 3,
     "metadata": {},
     "output_type": "execute_result"
    }
   ],
   "source": [
    "x = sympy.symbols(\"x\")\n",
    "a = sympy.IndexedBase(\"a\")\n",
    "u = sympy.Poly.from_list([a[i] for i in range(k)], gens=x)\n",
    "u"
   ]
  },
  {
   "cell_type": "code",
   "execution_count": 4,
   "metadata": {},
   "outputs": [
    {
     "data": {
      "text/latex": [
       "$\\displaystyle {a}_{0} + {a}_{1} + {a}_{2} + {a}_{3} + {a}_{4}$"
      ],
      "text/plain": [
       "a[0] + a[1] + a[2] + a[3] + a[4]"
      ]
     },
     "execution_count": 4,
     "metadata": {},
     "output_type": "execute_result"
    }
   ],
   "source": [
    "u.subs(x, 1)  # q(1)"
   ]
  },
  {
   "cell_type": "code",
   "execution_count": 5,
   "metadata": {},
   "outputs": [
    {
     "data": {
      "text/latex": [
       "$\\displaystyle 16 {a}_{0} + 8 {a}_{1} + 4 {a}_{2} + 2 {a}_{3} + {a}_{4}$"
      ],
      "text/plain": [
       "16*a[0] + 8*a[1] + 4*a[2] + 2*a[3] + a[4]"
      ]
     },
     "execution_count": 5,
     "metadata": {},
     "output_type": "execute_result"
    }
   ],
   "source": [
    "u.subs(x, 2)  # q(2)"
   ]
  },
  {
   "cell_type": "code",
   "execution_count": 6,
   "metadata": {},
   "outputs": [
    {
     "data": {
      "text/latex": [
       "$\\displaystyle 625 {a}_{0} + 125 {a}_{1} + 25 {a}_{2} + 5 {a}_{3} + {a}_{4}$"
      ],
      "text/plain": [
       "625*a[0] + 125*a[1] + 25*a[2] + 5*a[3] + a[4]"
      ]
     },
     "execution_count": 6,
     "metadata": {},
     "output_type": "execute_result"
    }
   ],
   "source": [
    "u.subs(x, 5)  # q(5)"
   ]
  },
  {
   "cell_type": "code",
   "execution_count": 7,
   "metadata": {},
   "outputs": [
    {
     "data": {
      "text/latex": [
       "$\\displaystyle 17592186044416 {a}_{0} + 8589934592 {a}_{1} + 4194304 {a}_{2} + 2048 {a}_{3} + {a}_{4}$"
      ],
      "text/plain": [
       "17592186044416*a[0] + 8589934592*a[1] + 4194304*a[2] + 2048*a[3] + a[4]"
      ]
     },
     "execution_count": 7,
     "metadata": {},
     "output_type": "execute_result"
    }
   ],
   "source": [
    "u.subs(x, 2048)  # q(2048)"
   ]
  },
  {
   "cell_type": "markdown",
   "metadata": {},
   "source": [
    "### 어떤 숫자든 쓸 수 있다며... ?! 안될 것 같은데?\n",
    "\n",
    "- Shamir는 다 계획이 있구나.\n",
    "- Modular arithmetic을 사용하는 것.\n",
    "- 나머지 연산을 위해 소수를 하나 선택합시다."
   ]
  },
  {
   "cell_type": "code",
   "execution_count": 8,
   "metadata": {},
   "outputs": [
    {
     "data": {
      "text/plain": [
       "4129"
      ]
     },
     "execution_count": 8,
     "metadata": {},
     "output_type": "execute_result"
    }
   ],
   "source": [
    "p = sympy.randprime(1_000, 5_000)\n",
    "p"
   ]
  },
  {
   "cell_type": "markdown",
   "metadata": {},
   "source": [
    "### 꼭 소수 써야 되나요?\n",
    "\n",
    "- 나중에 나누기를 해야 할 일이 있습니다. $a / b = c$ (mod $p$)\n",
    "- 그냥 나눠서 분수 만들면 mod $p$ 세상의 결과가 안나옵니다. **\"닫혀 있다\"** 표현 기억 나시나요?\n",
    "- 역원을 곱하면 나누기가 됩니다.\n",
    "- $b * x = 1$ mod $p$를 찾고 x를 곱해주면 되겠습니다.\n",
    "  - 어떻게 찾죠? extended Euclidean algorithm이란 것이 있습니다.\n",
    "  - 이 노트북에서는 스킵합니다."
   ]
  },
  {
   "cell_type": "code",
   "execution_count": 12,
   "metadata": {},
   "outputs": [
    {
     "data": {
      "text/plain": [
       "[1, 4, 5, 2, 3, 6]"
      ]
     },
     "execution_count": 12,
     "metadata": {},
     "output_type": "execute_result"
    }
   ],
   "source": [
    "inverses = [sympy.mod_inverse(x, 7) for x in range(1, 7)]\n",
    "inverses"
   ]
  },
  {
   "cell_type": "code",
   "execution_count": 13,
   "metadata": {},
   "outputs": [
    {
     "data": {
      "text/plain": [
       "[1, 1, 1, 1, 1, 1]"
      ]
     },
     "execution_count": 13,
     "metadata": {},
     "output_type": "execute_result"
    }
   ],
   "source": [
    "[(x * inv) % 7 for x, inv in zip(range(1, 7), inverses)]"
   ]
  },
  {
   "cell_type": "code",
   "execution_count": 26,
   "metadata": {},
   "outputs": [
    {
     "ename": "ValueError",
     "evalue": "inverse of 2 (mod 8) does not exist",
     "output_type": "error",
     "traceback": [
      "\u001b[0;31m---------------------------------------------------------------------------\u001b[0m",
      "\u001b[0;31mValueError\u001b[0m                                Traceback (most recent call last)",
      "\u001b[0;32m<ipython-input-26-e12ebd99f7f5>\u001b[0m in \u001b[0;36m<module>\u001b[0;34m\u001b[0m\n\u001b[0;32m----> 1\u001b[0;31m \u001b[0mset\u001b[0m\u001b[0;34m(\u001b[0m\u001b[0;34m[\u001b[0m\u001b[0msympy\u001b[0m\u001b[0;34m.\u001b[0m\u001b[0mmod_inverse\u001b[0m\u001b[0;34m(\u001b[0m\u001b[0mx\u001b[0m\u001b[0;34m,\u001b[0m \u001b[0;36m8\u001b[0m\u001b[0;34m)\u001b[0m \u001b[0;32mfor\u001b[0m \u001b[0mx\u001b[0m \u001b[0;32min\u001b[0m \u001b[0mrange\u001b[0m\u001b[0;34m(\u001b[0m\u001b[0;36m1\u001b[0m\u001b[0;34m,\u001b[0m \u001b[0;36m8\u001b[0m\u001b[0;34m)\u001b[0m\u001b[0;34m]\u001b[0m\u001b[0;34m)\u001b[0m\u001b[0;34m\u001b[0m\u001b[0;34m\u001b[0m\u001b[0m\n\u001b[0m",
      "\u001b[0;32m<ipython-input-26-e12ebd99f7f5>\u001b[0m in \u001b[0;36m<listcomp>\u001b[0;34m(.0)\u001b[0m\n\u001b[0;32m----> 1\u001b[0;31m \u001b[0mset\u001b[0m\u001b[0;34m(\u001b[0m\u001b[0;34m[\u001b[0m\u001b[0msympy\u001b[0m\u001b[0;34m.\u001b[0m\u001b[0mmod_inverse\u001b[0m\u001b[0;34m(\u001b[0m\u001b[0mx\u001b[0m\u001b[0;34m,\u001b[0m \u001b[0;36m8\u001b[0m\u001b[0;34m)\u001b[0m \u001b[0;32mfor\u001b[0m \u001b[0mx\u001b[0m \u001b[0;32min\u001b[0m \u001b[0mrange\u001b[0m\u001b[0;34m(\u001b[0m\u001b[0;36m1\u001b[0m\u001b[0;34m,\u001b[0m \u001b[0;36m8\u001b[0m\u001b[0;34m)\u001b[0m\u001b[0;34m]\u001b[0m\u001b[0;34m)\u001b[0m\u001b[0;34m\u001b[0m\u001b[0;34m\u001b[0m\u001b[0m\n\u001b[0m",
      "\u001b[0;32m~/Library/Python/3.7/lib/python/site-packages/sympy/core/numbers.py\u001b[0m in \u001b[0;36mmod_inverse\u001b[0;34m(a, m)\u001b[0m\n\u001b[1;32m    550\u001b[0m             \u001b[0mc\u001b[0m \u001b[0;34m=\u001b[0m \u001b[0;36m1\u001b[0m\u001b[0;34m/\u001b[0m\u001b[0ma\u001b[0m\u001b[0;34m\u001b[0m\u001b[0;34m\u001b[0m\u001b[0m\n\u001b[1;32m    551\u001b[0m     \u001b[0;32mif\u001b[0m \u001b[0mc\u001b[0m \u001b[0;32mis\u001b[0m \u001b[0;32mNone\u001b[0m\u001b[0;34m:\u001b[0m\u001b[0;34m\u001b[0m\u001b[0;34m\u001b[0m\u001b[0m\n\u001b[0;32m--> 552\u001b[0;31m         \u001b[0;32mraise\u001b[0m \u001b[0mValueError\u001b[0m\u001b[0;34m(\u001b[0m\u001b[0;34m'inverse of %s (mod %s) does not exist'\u001b[0m \u001b[0;34m%\u001b[0m \u001b[0;34m(\u001b[0m\u001b[0ma\u001b[0m\u001b[0;34m,\u001b[0m \u001b[0mm\u001b[0m\u001b[0;34m)\u001b[0m\u001b[0;34m)\u001b[0m\u001b[0;34m\u001b[0m\u001b[0;34m\u001b[0m\u001b[0m\n\u001b[0m\u001b[1;32m    553\u001b[0m     \u001b[0;32mreturn\u001b[0m \u001b[0mc\u001b[0m\u001b[0;34m\u001b[0m\u001b[0;34m\u001b[0m\u001b[0m\n\u001b[1;32m    554\u001b[0m \u001b[0;34m\u001b[0m\u001b[0m\n",
      "\u001b[0;31mValueError\u001b[0m: inverse of 2 (mod 8) does not exist"
     ]
    }
   ],
   "source": [
    "set([sympy.mod_inverse(x, 8) for x in range(1, 8)])"
   ]
  },
  {
   "cell_type": "markdown",
   "metadata": {},
   "source": [
    "### 이제 다시 돌아와서, n개의 점을 실제로 뽑아봅시다."
   ]
  },
  {
   "cell_type": "code",
   "execution_count": 9,
   "metadata": {},
   "outputs": [
    {
     "data": {
      "text/plain": [
       "[995, 765, 1951, 997, 1738]"
      ]
     },
     "execution_count": 9,
     "metadata": {},
     "output_type": "execute_result"
    }
   ],
   "source": [
    "coeffs = random.sample(range(1, p), k)\n",
    "coeffs"
   ]
  },
  {
   "cell_type": "code",
   "execution_count": 10,
   "metadata": {},
   "outputs": [
    {
     "data": {
      "text/latex": [
       "$\\displaystyle \\operatorname{Poly}{\\left( 995 x^{4} + 765 x^{3} + 1951 x^{2} + 997 x + 1738, x, domain=\\mathbb{F}_{4129} \\right)}$"
      ],
      "text/plain": [
       "Poly(995*x**4 + 765*x**3 + 1951*x**2 + 997*x + 1738, x, modulus=4129)"
      ]
     },
     "execution_count": 10,
     "metadata": {},
     "output_type": "execute_result"
    }
   ],
   "source": [
    "q = sympy.Poly.from_list(coeffs, gens=x, modulus=p)\n",
    "q"
   ]
  },
  {
   "cell_type": "code",
   "execution_count": 14,
   "metadata": {},
   "outputs": [
    {
     "data": {
      "text/plain": [
       "[(1, -1812),\n",
       " (2, 544),\n",
       " (3, -332),\n",
       " (4, 2044),\n",
       " (5, 875),\n",
       " (6, 857),\n",
       " (7, 1663),\n",
       " (8, -2057),\n",
       " (9, -31),\n",
       " (10, 603),\n",
       " (11, 71)]"
      ]
     },
     "execution_count": 14,
     "metadata": {},
     "output_type": "execute_result"
    }
   ],
   "source": [
    "D = [(i, q(i)) for i in range(1, n + 1)]\n",
    "D"
   ]
  },
  {
   "cell_type": "code",
   "execution_count": 15,
   "metadata": {},
   "outputs": [
    {
     "data": {
      "text/plain": [
       "[(10, 603), (8, -2057), (5, 875), (9, -31), (11, 71)]"
      ]
     },
     "execution_count": 15,
     "metadata": {},
     "output_type": "execute_result"
    }
   ],
   "source": [
    "k_choices = random.sample(D, k)\n",
    "k_choices"
   ]
  },
  {
   "cell_type": "markdown",
   "metadata": {},
   "source": [
    "### 근데 어떻게 방정식을 복원한다고요? 심지어 modular arithmetic까지 해야 하잖아요.\n",
    "\n",
    "- 우리에겐 Lagrange(1736-1813) 형님이 있습니다.\n",
    "\n",
    "#### Lagrange polynomial\n",
    "\n",
    "- 점들의 집합이 ${(i_{n}, d_{n})}$이라고 가정합시다. \n",
    "\n",
    "$$L(x) = \\sum_{j=0}^{k-1} d_{j}l_{j}(x)$$\n",
    "where $$l_{j}(x) = \\prod_{m=0, m \\ne j}^{k-1} \\frac{x-i_{m}}{i_{j}-i_{m}}$$\n",
    "\n",
    "#### 아이고 머리야\n",
    "\n",
    "- ~~알고 보면 별 것 아닙니다~~\n",
    "- 점 2개는 너무 간단하니까 점이 3개였다고 해보겠습니다.\n",
    "\n",
    "$$L(x) = \\frac{(x-x_{2})(x-x_{3})}{(x_{1}-x_{2})(x_{1}-x_{3})}y_{1} + \\frac{(x-x_{1})(x-x_{3})}{(x_{2}-x_{1})(x_{2}-x_{3})}y_{2} + \\frac{(x-x_{1})(x-x_{2})}{(x_{3}-x_{1})(x_{3}-x_{2})}y_{3}$$\n",
    "1. $L(x_{1}) = \\frac{(x_{1}-x_{2})(x_{1}-x_{3})}{(x_{1}-x_{2})(x_{1}-x_{3})}y_{1} + 0 + 0 = y_{1}$\n",
    "2. $L(x_{2}) = 0 + \\frac{(x_{2}-x_{1})(x_{2}-x_{3})}{(x_{2}-x_{1})(x_{2}-x_{3})}y_{2} + 0 = y_{2}$\n",
    "3. $L(x_{3}) = 0 + 0 + \\frac{(x_{3}-x_{1})(x_{3}-x_{2})}{(x_{3}-x_{1})(x_{3}-x_{2})}y_{3} = y_{3}$"
   ]
  },
  {
   "cell_type": "code",
   "execution_count": 16,
   "metadata": {},
   "outputs": [],
   "source": [
    "import functools as ft"
   ]
  },
  {
   "cell_type": "code",
   "execution_count": 17,
   "metadata": {},
   "outputs": [],
   "source": [
    "def sigma(xs):\n",
    "    return ft.reduce(lambda a, b: a + b, xs)"
   ]
  },
  {
   "cell_type": "code",
   "execution_count": 18,
   "metadata": {},
   "outputs": [],
   "source": [
    "def prod(xs):\n",
    "    return ft.reduce(lambda a, b: a * b, xs)"
   ]
  },
  {
   "cell_type": "code",
   "execution_count": 19,
   "metadata": {},
   "outputs": [],
   "source": [
    "def mul(y, c):\n",
    "    return sympy.Poly(y * c, modulus=p)"
   ]
  },
  {
   "cell_type": "code",
   "execution_count": 20,
   "metadata": {},
   "outputs": [],
   "source": [
    "def div(y, c):\n",
    "    return mul(y, sympy.mod_inverse(c, p))"
   ]
  },
  {
   "cell_type": "code",
   "execution_count": 21,
   "metadata": {},
   "outputs": [
    {
     "data": {
      "text/plain": [
       "[Poly(-413*x**4 + 1242*x**3 + 373*x**2 - 1030*x - 396, x, modulus=4129),\n",
       " Poly(-1147*x**4 - 1145*x**3 + 1122*x**2 + 1285*x - 275, x, modulus=4129),\n",
       " Poly(-562*x**4 + 711*x**3 - 1501*x**2 + 1344*x + 22, x, modulus=4129),\n",
       " Poly(-516*x**4 + 1028*x**3 + 569*x**2 - 1316*x + 550, x, modulus=4129),\n",
       " Poly(-1491*x**4 - 1836*x**3 - 563*x**2 - 283*x + 100, x, modulus=4129)]"
      ]
     },
     "execution_count": 21,
     "metadata": {},
     "output_type": "execute_result"
    }
   ],
   "source": [
    "lx = []\n",
    "for i, d in k_choices:\n",
    "    upper = prod([sympy.Poly(x - j, modulus=p) for j, _ in k_choices if i != j])\n",
    "    lower = prod([i - j for j, _ in k_choices if i != j]) % p\n",
    "    lx.append(div(upper, lower))\n",
    "\n",
    "lx"
   ]
  },
  {
   "cell_type": "code",
   "execution_count": 22,
   "metadata": {},
   "outputs": [
    {
     "data": {
      "text/latex": [
       "$\\displaystyle \\operatorname{Poly}{\\left( 995 x^{4} + 765 x^{3} + 1951 x^{2} + 997 x + 1738, x, domain=\\mathbb{F}_{4129} \\right)}$"
      ],
      "text/plain": [
       "Poly(995*x**4 + 765*x**3 + 1951*x**2 + 997*x + 1738, x, modulus=4129)"
      ]
     },
     "execution_count": 22,
     "metadata": {},
     "output_type": "execute_result"
    }
   ],
   "source": [
    "L = sigma([mul(l, d) for (_, d), l in zip(k_choices, lx)])\n",
    "L"
   ]
  },
  {
   "cell_type": "code",
   "execution_count": 23,
   "metadata": {},
   "outputs": [
    {
     "data": {
      "text/latex": [
       "$\\displaystyle \\operatorname{Poly}{\\left( 995 x^{4} + 765 x^{3} + 1951 x^{2} + 997 x + 1738, x, domain=\\mathbb{F}_{4129} \\right)}$"
      ],
      "text/plain": [
       "Poly(995*x**4 + 765*x**3 + 1951*x**2 + 997*x + 1738, x, modulus=4129)"
      ]
     },
     "execution_count": 23,
     "metadata": {},
     "output_type": "execute_result"
    }
   ],
   "source": [
    "q"
   ]
  },
  {
   "cell_type": "code",
   "execution_count": 27,
   "metadata": {},
   "outputs": [
    {
     "data": {
      "text/plain": [
       "True"
      ]
     },
     "execution_count": 27,
     "metadata": {},
     "output_type": "execute_result"
    }
   ],
   "source": [
    "L(0) == q(0)"
   ]
  }
 ],
 "metadata": {
  "file_extension": ".py",
  "kernelspec": {
   "display_name": "Python 3.7.6 64-bit",
   "language": "python",
   "name": "python37664bitb9615a251e7f46a8ac61af0f1dce36b6"
  },
  "language_info": {
   "codemirror_mode": {
    "name": "ipython",
    "version": 3
   },
   "file_extension": ".py",
   "mimetype": "text/x-python",
   "name": "python",
   "nbconvert_exporter": "python",
   "pygments_lexer": "ipython3",
   "version": "3.7.6"
  },
  "mimetype": "text/x-python",
  "name": "python",
  "npconvert_exporter": "python",
  "pygments_lexer": "ipython3",
  "version": 3
 },
 "nbformat": 4,
 "nbformat_minor": 4
}
