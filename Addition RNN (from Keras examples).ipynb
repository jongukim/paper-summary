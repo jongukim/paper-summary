{
 "cells": [
  {
   "cell_type": "markdown",
   "metadata": {},
   "source": [
    "# 덧셈 뉴럴넷 만들기\n",
    "\n",
    "- from: https://keras.io/examples/addition_rnn/\n",
    "- with RNN (LSTM)\n",
    "- (최대 3자리) 숫자 두 개를 더하는 작업\n",
    "- 결과는 4자리 숫자 산출 가능"
   ]
  },
  {
   "cell_type": "code",
   "execution_count": 1,
   "metadata": {},
   "outputs": [],
   "source": [
    "import tensorflow as tf\n",
    "from tensorflow.keras.models import Sequential\n",
    "from tensorflow.keras import layers\n",
    "import numpy as np"
   ]
  },
  {
   "cell_type": "code",
   "execution_count": 2,
   "metadata": {},
   "outputs": [],
   "source": [
    "DATASET_SIZE = 50_000\n",
    "\n",
    "DIGITS = 3\n",
    "# Maximum length of input is 'int + int' (e.g., '345+678')\n",
    "MAXLEN = DIGITS + 1 + DIGITS"
   ]
  },
  {
   "cell_type": "markdown",
   "metadata": {},
   "source": [
    "# 숫자 표현 방법 정의\n",
    "\n",
    "- One-hot encoding 사용\n",
    "- 숫자 10개(0~9)와 + 기호, 공백까지 사용하여 총 12개의 문자 사용"
   ]
  },
  {
   "cell_type": "code",
   "execution_count": 3,
   "metadata": {},
   "outputs": [],
   "source": [
    "class CharacterTable(object):\n",
    "    def __init__(self, chars):\n",
    "        self.chars = sorted(set(chars))\n",
    "        self.char_indices = dict((c, i) for i, c in enumerate(self.chars))\n",
    "        self.indices_char = dict((i, c) for i, c in enumerate(self.chars))\n",
    "\n",
    "    def encode(self, C, num_rows):\n",
    "        x = np.zeros((num_rows, len(self.chars)))\n",
    "        for i, c in enumerate(C):\n",
    "            x[i, self.char_indices[c]] = 1\n",
    "        return x\n",
    "\n",
    "    def decode(self, x, calc_argmax=True):\n",
    "        if calc_argmax:\n",
    "            x = x.argmax(axis=-1)\n",
    "        return ''.join(self.indices_char[x] for x in x)\n",
    "    \n",
    "# All the numbers, plus sign and space for padding.\n",
    "chars = '0123456789+ '\n",
    "ctable = CharacterTable(chars)"
   ]
  },
  {
   "cell_type": "code",
   "execution_count": 4,
   "metadata": {},
   "outputs": [
    {
     "data": {
      "text/plain": [
       "([' ', '+', '0', '1', '2', '3', '4', '5', '6', '7', '8', '9'], 12)"
      ]
     },
     "execution_count": 4,
     "metadata": {},
     "output_type": "execute_result"
    }
   ],
   "source": [
    "ctable.chars, len(chars)"
   ]
  },
  {
   "cell_type": "code",
   "execution_count": 5,
   "metadata": {},
   "outputs": [
    {
     "data": {
      "text/plain": [
       "array([[0., 0., 0., 0., 0., 1., 0., 0., 0., 0., 0., 0.],\n",
       "       [0., 0., 0., 0., 0., 0., 1., 0., 0., 0., 0., 0.],\n",
       "       [0., 0., 0., 0., 0., 0., 0., 1., 0., 0., 0., 0.],\n",
       "       [0., 1., 0., 0., 0., 0., 0., 0., 0., 0., 0., 0.],\n",
       "       [0., 0., 0., 0., 0., 1., 0., 0., 0., 0., 0., 0.],\n",
       "       [0., 0., 0., 0., 1., 0., 0., 0., 0., 0., 0., 0.],\n",
       "       [1., 0., 0., 0., 0., 0., 0., 0., 0., 0., 0., 0.]])"
      ]
     },
     "execution_count": 5,
     "metadata": {},
     "output_type": "execute_result"
    }
   ],
   "source": [
    "ctable.encode('345+32 ', MAXLEN)"
   ]
  },
  {
   "cell_type": "code",
   "execution_count": 6,
   "metadata": {},
   "outputs": [
    {
     "data": {
      "text/plain": [
       "array([[0., 0., 0., 1., 0., 0., 0., 0., 0., 0., 0., 0.],\n",
       "       [0., 0., 0., 0., 0., 0., 0., 0., 1., 0., 0., 0.],\n",
       "       [0., 0., 0., 0., 1., 0., 0., 0., 0., 0., 0., 0.],\n",
       "       [0., 0., 1., 0., 0., 0., 0., 0., 0., 0., 0., 0.]])"
      ]
     },
     "execution_count": 6,
     "metadata": {},
     "output_type": "execute_result"
    }
   ],
   "source": [
    "ctable.encode('1620', DIGITS + 1)"
   ]
  },
  {
   "cell_type": "code",
   "execution_count": 7,
   "metadata": {},
   "outputs": [
    {
     "data": {
      "text/plain": [
       "'1620'"
      ]
     },
     "execution_count": 7,
     "metadata": {},
     "output_type": "execute_result"
    }
   ],
   "source": [
    "ctable.decode(np.array([[0., 0., 0., 1., 0., 0., 0., 0., 0., 0., 0., 0.],\n",
    "                        [0., 0., 0., 0., 0., 0., 0., 0., 1., 0., 0., 0.],\n",
    "                        [0., 0., 0., 0., 1., 0., 0., 0., 0., 0., 0., 0.],\n",
    "                        [0., 0., 1., 0., 0., 0., 0., 0., 0., 0., 0., 0.]]))"
   ]
  },
  {
   "cell_type": "code",
   "execution_count": 8,
   "metadata": {},
   "outputs": [
    {
     "data": {
      "text/plain": [
       "'1620'"
      ]
     },
     "execution_count": 8,
     "metadata": {},
     "output_type": "execute_result"
    }
   ],
   "source": [
    "ctable.decode(np.array([[0., 0., 0., 0.9, 0., 0.1, 0., 0., 0., 0., 0., 0.],\n",
    "                        [0., 0., 0., 0.45, 0., 0., 0., 0., 0.55, 0., 0., 0.],\n",
    "                        [0., 0., 0., 0., 1., 0., 0., 0., 0., 0., 0., 0.],\n",
    "                        [0., 0., 1., 0., 0., 0., 0., 0., 0., 0., 0., 0.]]))"
   ]
  },
  {
   "cell_type": "markdown",
   "metadata": {},
   "source": [
    "## Dataset 생성"
   ]
  },
  {
   "cell_type": "code",
   "execution_count": 9,
   "metadata": {},
   "outputs": [
    {
     "name": "stdout",
     "output_type": "stream",
     "text": [
      "Total addition questions: 50000\n"
     ]
    }
   ],
   "source": [
    "questions = []  # 문제 DB\n",
    "expected = []   # 정답 DB\n",
    "seen = set()    # 같은 문제 제거용\n",
    "\n",
    "while len(questions) < DATASET_SIZE:\n",
    "    f = lambda: int(''.join(np.random.choice(list('0123456789')) for i in range(np.random.randint(1, DIGITS + 1))))\n",
    "    a, b = f(), f()\n",
    "    key = tuple(sorted((a, b)))\n",
    "    if key in seen:\n",
    "        continue\n",
    "    seen.add(key)\n",
    "    \n",
    "    q = f\"{a}+{b}\"\n",
    "    query = f\"{q:<{MAXLEN}}\"\n",
    "    ans = f\"{a+b:{DIGITS+1}}\"\n",
    "    # Reverse the query, e.g., '12+345  ' becomes '  543+21'\n",
    "    query = query[::-1]\n",
    "    questions.append(query)\n",
    "    expected.append(ans)\n",
    "print('Total addition questions:', len(questions))"
   ]
  },
  {
   "cell_type": "code",
   "execution_count": 10,
   "metadata": {},
   "outputs": [
    {
     "data": {
      "text/plain": [
       "('   2+85', '  60')"
      ]
     },
     "execution_count": 10,
     "metadata": {},
     "output_type": "execute_result"
    }
   ],
   "source": [
    "questions[0], expected[0]"
   ]
  },
  {
   "cell_type": "code",
   "execution_count": 11,
   "metadata": {},
   "outputs": [],
   "source": [
    "x = np.zeros((len(questions), MAXLEN, len(chars)), dtype=np.bool)\n",
    "y = np.zeros((len(questions), DIGITS + 1, len(chars)), dtype=np.bool)\n",
    "for i, sentence in enumerate(questions):\n",
    "    x[i] = ctable.encode(sentence, MAXLEN)\n",
    "for i, sentence in enumerate(expected):\n",
    "    y[i] = ctable.encode(sentence, DIGITS + 1)\n",
    "\n",
    "# Shuffle (x, y)\n",
    "indices = np.arange(len(y))\n",
    "np.random.shuffle(indices)\n",
    "x = x[indices]\n",
    "y = y[indices]"
   ]
  },
  {
   "cell_type": "code",
   "execution_count": 12,
   "metadata": {},
   "outputs": [
    {
     "data": {
      "text/plain": [
       "array([39348, 12860, 14717, ..., 38890,  6479, 38775])"
      ]
     },
     "execution_count": 12,
     "metadata": {},
     "output_type": "execute_result"
    }
   ],
   "source": [
    "indices"
   ]
  },
  {
   "cell_type": "markdown",
   "metadata": {},
   "source": [
    "## Model 정의"
   ]
  },
  {
   "cell_type": "code",
   "execution_count": 16,
   "metadata": {},
   "outputs": [
    {
     "name": "stdout",
     "output_type": "stream",
     "text": [
      "_________________________________________________________________\n",
      "Layer (type)                 Output Shape              Param #   \n",
      "=================================================================\n",
      "lstm_2 (LSTM)                (None, 128)               72192     \n",
      "_________________________________________________________________\n",
      "repeat_vector_1 (RepeatVecto (None, 4, 128)            0         \n",
      "_________________________________________________________________\n",
      "lstm_3 (LSTM)                (None, 4, 128)            131584    \n",
      "_________________________________________________________________\n",
      "time_distributed_1 (TimeDist (None, 4, 12)             1548      \n",
      "=================================================================\n",
      "Total params: 205,324\n",
      "Trainable params: 205,324\n",
      "Non-trainable params: 0\n",
      "_________________________________________________________________\n"
     ]
    }
   ],
   "source": [
    "# Try replacing GRU, or SimpleRNN.\n",
    "RNN = layers.LSTM\n",
    "HIDDEN_SIZE = 128\n",
    "\n",
    "model = Sequential()\n",
    "\n",
    "# B x MAXLEN x CHARS -> B x HIDDENS\n",
    "model.add(RNN(HIDDEN_SIZE, input_shape=(MAXLEN, len(chars))))\n",
    "\n",
    "# B x HIDDENS -> B x DIGITS+1 x HIDDENS \n",
    "model.add(layers.RepeatVector(DIGITS + 1))\n",
    "\n",
    "# same shape: B x DIGITS+1 x HIDDENS (return_sequences is true)\n",
    "model.add(RNN(HIDDEN_SIZE, return_sequences=True))\n",
    "\n",
    "# B x DIGITS+1 x HIDDENS -> B x DIGITS+1 x CHARS\n",
    "model.add(layers.TimeDistributed(layers.Dense(len(chars), activation='softmax')))\n",
    "\n",
    "model.compile(loss='categorical_crossentropy',\n",
    "              optimizer='adam',\n",
    "              metrics=['accuracy'])\n",
    "model.summary()"
   ]
  },
  {
   "cell_type": "code",
   "execution_count": 17,
   "metadata": {
    "scrolled": false
   },
   "outputs": [
    {
     "name": "stdout",
     "output_type": "stream",
     "text": [
      "Train on 40000 samples, validate on 10000 samples\n",
      "Epoch 1/10\n",
      "40000/40000 [==============================] - 5s 136us/sample - loss: 1.9158 - acc: 0.2918 - val_loss: 1.7630 - val_acc: 0.3286\n",
      "Epoch 2/10\n",
      "40000/40000 [==============================] - 4s 100us/sample - loss: 1.7381 - acc: 0.3359 - val_loss: 1.7083 - val_acc: 0.3476\n",
      "Epoch 3/10\n",
      "40000/40000 [==============================] - 4s 100us/sample - loss: 1.6780 - acc: 0.3566 - val_loss: 1.6674 - val_acc: 0.3564\n",
      "Epoch 4/10\n",
      "40000/40000 [==============================] - 4s 98us/sample - loss: 1.6176 - acc: 0.3779 - val_loss: 1.5736 - val_acc: 0.3977\n",
      "Epoch 5/10\n",
      "40000/40000 [==============================] - 4s 101us/sample - loss: 1.5207 - acc: 0.4152 - val_loss: 1.4551 - val_acc: 0.4447\n",
      "Epoch 6/10\n",
      "40000/40000 [==============================] - 4s 100us/sample - loss: 1.3776 - acc: 0.4715 - val_loss: 1.3239 - val_acc: 0.4969\n",
      "Epoch 7/10\n",
      "40000/40000 [==============================] - 4s 98us/sample - loss: 1.2835 - acc: 0.5127 - val_loss: 1.2566 - val_acc: 0.5153\n",
      "Epoch 8/10\n",
      "40000/40000 [==============================] - 4s 100us/sample - loss: 1.2065 - acc: 0.5474 - val_loss: 1.1659 - val_acc: 0.5610\n",
      "Epoch 9/10\n",
      "40000/40000 [==============================] - 4s 99us/sample - loss: 1.1363 - acc: 0.5745 - val_loss: 1.1077 - val_acc: 0.5874\n",
      "Epoch 10/10\n",
      "40000/40000 [==============================] - 4s 101us/sample - loss: 1.0760 - acc: 0.5985 - val_loss: 1.0410 - val_acc: 0.6147\n",
      "Q 28+116  T  144 !=  135\n",
      "Q 35+515  T  550 !=  539\n",
      "Q 979+9   T  988 !=  974\n",
      "Q 65+229  T  294 !=  297\n",
      "Q 98+68   T  166 !=  164\n",
      "Q 543+44  T  587 !=  581\n",
      "Q 362+75  T  437 !=  411\n",
      "Q 6+276   T  282 !=  279\n",
      "Q 5+876   T  881 !=  884\n",
      "Q 629+98  T  727 !=  747\n",
      "Train on 40000 samples, validate on 10000 samples\n",
      "Epoch 11/20\n",
      "40000/40000 [==============================] - 4s 101us/sample - loss: 1.0199 - acc: 0.6232 - val_loss: 1.0009 - val_acc: 0.6331\n",
      "Epoch 12/20\n",
      "40000/40000 [==============================] - 4s 100us/sample - loss: 0.9748 - acc: 0.6439 - val_loss: 0.9542 - val_acc: 0.6495\n",
      "Epoch 13/20\n",
      "40000/40000 [==============================] - 4s 99us/sample - loss: 0.9382 - acc: 0.6572 - val_loss: 0.9226 - val_acc: 0.6637\n",
      "Epoch 14/20\n",
      "40000/40000 [==============================] - 4s 98us/sample - loss: 0.9012 - acc: 0.6744 - val_loss: 0.8867 - val_acc: 0.6762\n",
      "Epoch 15/20\n",
      "40000/40000 [==============================] - 4s 102us/sample - loss: 0.8664 - acc: 0.6871 - val_loss: 0.8574 - val_acc: 0.6899\n",
      "Epoch 16/20\n",
      "40000/40000 [==============================] - 4s 100us/sample - loss: 0.8276 - acc: 0.7042 - val_loss: 0.8214 - val_acc: 0.6992\n",
      "Epoch 17/20\n",
      "40000/40000 [==============================] - 4s 99us/sample - loss: 0.7973 - acc: 0.7151 - val_loss: 0.7970 - val_acc: 0.7072\n",
      "Epoch 18/20\n",
      "40000/40000 [==============================] - 4s 100us/sample - loss: 0.7680 - acc: 0.7253 - val_loss: 0.7699 - val_acc: 0.7192\n",
      "Epoch 19/20\n",
      "40000/40000 [==============================] - 4s 97us/sample - loss: 0.7347 - acc: 0.7383 - val_loss: 0.7373 - val_acc: 0.7319\n",
      "Epoch 20/20\n",
      "40000/40000 [==============================] - 4s 101us/sample - loss: 0.7033 - acc: 0.7479 - val_loss: 0.6960 - val_acc: 0.7459\n",
      "Q 110+193 T  303 !=  308\n",
      "Q 178+1   T  179 !=  177\n",
      "Q 665+509 T 1174 != 1177\n",
      "Q 583+0   T  583 ==  583\n",
      "Q 66+847  T  913 !=  914\n",
      "Q 678+408 T 1086 != 1081\n",
      "Q 17+28   T   45 !=   41\n",
      "Q 4+983   T  987 !=  984\n",
      "Q 243+998 T 1241 != 1231\n",
      "Q 75+26   T  101 ==  101\n",
      "Train on 40000 samples, validate on 10000 samples\n",
      "Epoch 21/30\n",
      "40000/40000 [==============================] - 4s 101us/sample - loss: 0.6630 - acc: 0.7600 - val_loss: 0.6517 - val_acc: 0.7594\n",
      "Epoch 22/30\n",
      "40000/40000 [==============================] - 4s 100us/sample - loss: 0.6050 - acc: 0.7800 - val_loss: 0.5788 - val_acc: 0.7847\n",
      "Epoch 23/30\n",
      "40000/40000 [==============================] - 4s 101us/sample - loss: 0.5189 - acc: 0.8134 - val_loss: 0.4810 - val_acc: 0.8266\n",
      "Epoch 24/30\n",
      "40000/40000 [==============================] - 4s 96us/sample - loss: 0.4158 - acc: 0.8594 - val_loss: 0.3800 - val_acc: 0.8699\n",
      "Epoch 25/30\n",
      "40000/40000 [==============================] - 4s 102us/sample - loss: 0.3280 - acc: 0.9019 - val_loss: 0.3098 - val_acc: 0.9038\n",
      "Epoch 26/30\n",
      "40000/40000 [==============================] - 4s 102us/sample - loss: 0.2531 - acc: 0.9382 - val_loss: 0.2637 - val_acc: 0.9247\n",
      "Epoch 27/30\n",
      "40000/40000 [==============================] - 4s 102us/sample - loss: 0.1976 - acc: 0.9599 - val_loss: 0.1858 - val_acc: 0.9600\n",
      "Epoch 28/30\n",
      "40000/40000 [==============================] - 4s 102us/sample - loss: 0.1554 - acc: 0.9733 - val_loss: 0.1512 - val_acc: 0.9698\n",
      "Epoch 29/30\n",
      "40000/40000 [==============================] - 4s 98us/sample - loss: 0.1231 - acc: 0.9806 - val_loss: 0.1147 - val_acc: 0.9808\n",
      "Epoch 30/30\n",
      "40000/40000 [==============================] - 4s 101us/sample - loss: 0.0972 - acc: 0.9870 - val_loss: 0.0963 - val_acc: 0.9833\n",
      "Q 65+626  T  691 ==  691\n",
      "Q 428+1   T  429 ==  429\n",
      "Q 973+30  T 1003 == 1003\n",
      "Q 55+420  T  475 ==  475\n",
      "Q 30+83   T  113 ==  113\n",
      "Q 975+819 T 1794 != 1784\n",
      "Q 143+276 T  419 ==  419\n",
      "Q 246+515 T  761 ==  761\n",
      "Q 860+53  T  913 ==  913\n",
      "Q 353+858 T 1211 == 1211\n",
      "Train on 40000 samples, validate on 10000 samples\n",
      "Epoch 31/40\n",
      "40000/40000 [==============================] - 4s 108us/sample - loss: 0.0802 - acc: 0.9902 - val_loss: 0.0828 - val_acc: 0.9861\n",
      "Epoch 32/40\n",
      "40000/40000 [==============================] - 4s 107us/sample - loss: 0.0661 - acc: 0.9925 - val_loss: 0.0695 - val_acc: 0.9883\n",
      "Epoch 33/40\n",
      "40000/40000 [==============================] - 4s 103us/sample - loss: 0.0554 - acc: 0.9944 - val_loss: 0.0605 - val_acc: 0.9905\n",
      "Epoch 34/40\n",
      "40000/40000 [==============================] - 4s 100us/sample - loss: 0.0480 - acc: 0.9953 - val_loss: 0.0502 - val_acc: 0.9930\n",
      "Epoch 35/40\n",
      "40000/40000 [==============================] - 4s 98us/sample - loss: 0.0415 - acc: 0.9959 - val_loss: 0.0435 - val_acc: 0.9940\n",
      "Epoch 36/40\n",
      "40000/40000 [==============================] - 4s 100us/sample - loss: 0.0332 - acc: 0.9978 - val_loss: 0.0371 - val_acc: 0.9949\n",
      "Epoch 37/40\n",
      "40000/40000 [==============================] - 4s 101us/sample - loss: 0.0285 - acc: 0.9981 - val_loss: 0.0533 - val_acc: 0.9864\n",
      "Epoch 38/40\n",
      "40000/40000 [==============================] - 4s 102us/sample - loss: 0.0285 - acc: 0.9973 - val_loss: 0.0299 - val_acc: 0.9960\n",
      "Epoch 39/40\n",
      "40000/40000 [==============================] - 4s 100us/sample - loss: 0.0233 - acc: 0.9983 - val_loss: 0.0277 - val_acc: 0.9962\n",
      "Epoch 40/40\n",
      "40000/40000 [==============================] - 4s 99us/sample - loss: 0.0188 - acc: 0.9991 - val_loss: 0.0215 - val_acc: 0.9973\n",
      "Q 7+848   T  855 ==  855\n",
      "Q 60+49   T  109 ==  109\n",
      "Q 69+897  T  966 ==  966\n",
      "Q 614+37  T  651 ==  651\n",
      "Q 89+144  T  233 ==  233\n",
      "Q 266+82  T  348 ==  348\n",
      "Q 490+275 T  765 ==  765\n",
      "Q 455+55  T  510 ==  510\n",
      "Q 423+4   T  427 ==  427\n",
      "Q 504+485 T  989 ==  989\n",
      "Train on 40000 samples, validate on 10000 samples\n",
      "Epoch 41/50\n",
      "40000/40000 [==============================] - 4s 100us/sample - loss: 0.0169 - acc: 0.9991 - val_loss: 0.0247 - val_acc: 0.9964\n",
      "Epoch 42/50\n",
      "40000/40000 [==============================] - 4s 100us/sample - loss: 0.0259 - acc: 0.9956 - val_loss: 0.0256 - val_acc: 0.9953\n",
      "Epoch 43/50\n",
      "40000/40000 [==============================] - 4s 103us/sample - loss: 0.0147 - acc: 0.9990 - val_loss: 0.0150 - val_acc: 0.9986\n",
      "Epoch 44/50\n",
      "40000/40000 [==============================] - 4s 101us/sample - loss: 0.0109 - acc: 0.9996 - val_loss: 0.0133 - val_acc: 0.9986\n",
      "Epoch 45/50\n",
      "40000/40000 [==============================] - 4s 99us/sample - loss: 0.0370 - acc: 0.9897 - val_loss: 0.0248 - val_acc: 0.9945\n",
      "Epoch 46/50\n",
      "40000/40000 [==============================] - 4s 100us/sample - loss: 0.0100 - acc: 0.9995 - val_loss: 0.0113 - val_acc: 0.9988\n",
      "Epoch 47/50\n",
      "40000/40000 [==============================] - 4s 99us/sample - loss: 0.0071 - acc: 0.9999 - val_loss: 0.0097 - val_acc: 0.9991\n",
      "Epoch 48/50\n",
      "40000/40000 [==============================] - 4s 101us/sample - loss: 0.0062 - acc: 0.9999 - val_loss: 0.0087 - val_acc: 0.9993\n",
      "Epoch 49/50\n",
      "40000/40000 [==============================] - 4s 101us/sample - loss: 0.0054 - acc: 1.0000 - val_loss: 0.0082 - val_acc: 0.9994\n",
      "Epoch 50/50\n"
     ]
    },
    {
     "name": "stdout",
     "output_type": "stream",
     "text": [
      "40000/40000 [==============================] - 4s 100us/sample - loss: 0.0052 - acc: 0.9999 - val_loss: 0.0095 - val_acc: 0.9987\n",
      "Q 268+66  T  334 ==  334\n",
      "Q 646+2   T  648 ==  648\n",
      "Q 484+754 T 1238 == 1238\n",
      "Q 38+469  T  507 ==  507\n",
      "Q 169+840 T 1009 == 1009\n",
      "Q 103+8   T  111 ==  111\n",
      "Q 28+500  T  528 ==  528\n",
      "Q 47+202  T  249 ==  249\n",
      "Q 881+136 T 1017 == 1017\n",
      "Q 72+708  T  780 ==  780\n",
      "Wall time: 3min 25s\n"
     ]
    }
   ],
   "source": [
    "%%time\n",
    "\n",
    "REPEAT = 5\n",
    "EPOCHS_PER_CYCLE = 10\n",
    "\n",
    "for r in range(REPEAT):\n",
    "    model.fit(x, y,\n",
    "              batch_size=256,\n",
    "              initial_epoch=r * EPOCHS_PER_CYCLE,\n",
    "              epochs=(r+1) * EPOCHS_PER_CYCLE,\n",
    "              validation_split=0.2)\n",
    "    for _ in range(10):\n",
    "        ind = np.random.randint(0, len(x))\n",
    "        rowx, rowy = x[np.array([ind])], y[np.array([ind])]\n",
    "        preds = model.predict_classes(rowx, verbose=0)\n",
    "        q = ctable.decode(rowx[0])\n",
    "        correct = ctable.decode(rowy[0])\n",
    "        guess = ctable.decode(preds[0], calc_argmax=False)\n",
    "        print(f'Q {q[::-1]} T {correct} {\"==\" if correct == guess else \"!=\"} {guess}')\n"
   ]
  },
  {
   "cell_type": "markdown",
   "metadata": {},
   "source": [
    "## 개별 검증"
   ]
  },
  {
   "cell_type": "code",
   "execution_count": 51,
   "metadata": {},
   "outputs": [
    {
     "data": {
      "text/plain": [
       "array([[[False, False, False,  True, False, False, False, False, False,\n",
       "         False, False, False],\n",
       "        [False, False, False, False,  True, False, False, False, False,\n",
       "         False, False, False],\n",
       "        [False, False, False, False, False,  True, False, False, False,\n",
       "         False, False, False],\n",
       "        [False,  True, False, False, False, False, False, False, False,\n",
       "         False, False, False],\n",
       "        [False, False, False, False, False,  True, False, False, False,\n",
       "         False, False, False],\n",
       "        [False, False, False, False,  True, False, False, False, False,\n",
       "         False, False, False],\n",
       "        [False, False, False,  True, False, False, False, False, False,\n",
       "         False, False, False]],\n",
       "\n",
       "       [[ True, False, False, False, False, False, False, False, False,\n",
       "         False, False, False],\n",
       "        [ True, False, False, False, False, False, False, False, False,\n",
       "         False, False, False],\n",
       "        [False, False, False, False,  True, False, False, False, False,\n",
       "         False, False, False],\n",
       "        [False, False, False, False, False,  True, False, False, False,\n",
       "         False, False, False],\n",
       "        [False,  True, False, False, False, False, False, False, False,\n",
       "         False, False, False],\n",
       "        [False, False, False, False,  True, False, False, False, False,\n",
       "         False, False, False],\n",
       "        [False, False, False,  True, False, False, False, False, False,\n",
       "         False, False, False]],\n",
       "\n",
       "       [[ True, False, False, False, False, False, False, False, False,\n",
       "         False, False, False],\n",
       "        [ True, False, False, False, False, False, False, False, False,\n",
       "         False, False, False],\n",
       "        [ True, False, False, False, False, False, False, False, False,\n",
       "         False, False, False],\n",
       "        [ True, False, False, False, False, False, False, False, False,\n",
       "         False, False, False],\n",
       "        [False, False, False, False, False,  True, False, False, False,\n",
       "         False, False, False],\n",
       "        [False,  True, False, False, False, False, False, False, False,\n",
       "         False, False, False],\n",
       "        [False, False, False,  True, False, False, False, False, False,\n",
       "         False, False, False]]])"
      ]
     },
     "execution_count": 51,
     "metadata": {},
     "output_type": "execute_result"
    }
   ],
   "source": [
    "test_input = np.zeros((3, MAXLEN, len(chars)), dtype=np.bool)\n",
    "\n",
    "test_input[0] = ctable.encode('123+321'[::-1], MAXLEN)  # 444\n",
    "test_input[1] = ctable.encode('12+32  '[::-1], MAXLEN)  # 44\n",
    "test_input[2] = ctable.encode('1+3    '[::-1], MAXLEN)  # 4\n",
    "\n",
    "test_input"
   ]
  },
  {
   "cell_type": "code",
   "execution_count": 52,
   "metadata": {},
   "outputs": [
    {
     "name": "stdout",
     "output_type": "stream",
     "text": [
      " 444\n",
      "  44\n",
      "   4\n"
     ]
    }
   ],
   "source": [
    "res = model.predict(test_input)\n",
    "for r in res:\n",
    "    print(ctable.decode(r))"
   ]
  }
 ],
 "metadata": {
  "kernelspec": {
   "display_name": "Python 3",
   "language": "python",
   "name": "python3"
  },
  "language_info": {
   "codemirror_mode": {
    "name": "ipython",
    "version": 3
   },
   "file_extension": ".py",
   "mimetype": "text/x-python",
   "name": "python",
   "nbconvert_exporter": "python",
   "pygments_lexer": "ipython3",
   "version": "3.6.8"
  }
 },
 "nbformat": 4,
 "nbformat_minor": 2
}
